{
 "cells": [
  {
   "cell_type": "markdown",
   "id": "84754f11",
   "metadata": {},
   "source": [
    "# How to think inside of the quantum world!\n",
    "\n",
    "<b>Developed by</b> Elias Anderssen Dalan <a href=\"mailto:ceadyy@gmail.com\">✉️</a>, supported by Centre for Computing in Science Education and Hylleraas Centre for Quantum Molecular Sciences."
   ]
  },
  {
   "cell_type": "markdown",
   "id": "642bbfa1",
   "metadata": {},
   "source": [
    "This notebook will give you some insight and tips on how to think when dealing with problems and theory on the worlds smallest scale. The classical way of thinking sadly does not "
   ]
  }
 ],
 "metadata": {
  "kernelspec": {
   "display_name": "Python 3",
   "language": "python",
   "name": "python3"
  },
  "language_info": {
   "codemirror_mode": {
    "name": "ipython",
    "version": 3
   },
   "file_extension": ".py",
   "mimetype": "text/x-python",
   "name": "python",
   "nbconvert_exporter": "python",
   "pygments_lexer": "ipython3",
   "version": "3.8.3"
  }
 },
 "nbformat": 4,
 "nbformat_minor": 5
}
