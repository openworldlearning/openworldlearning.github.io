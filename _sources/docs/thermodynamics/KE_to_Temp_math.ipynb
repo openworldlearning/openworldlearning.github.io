{
 "cells": [
  {
   "cell_type": "markdown",
   "id": "3a5c2ea6",
   "metadata": {},
   "source": [
    "# How is $K_E =  \\frac{3}{2} k_BT$ for gas?\n",
    "   By [Hanan Gharyaba](https://www.linkedin.com/in/hanan-gharayba-6a5799207/)"
   ]
  },
  {
   "cell_type": "markdown",
   "id": "525c6c3b",
   "metadata": {},
   "source": [
    "$$\"~True~Knowledge~Is~Knowing~What~You~Don't~Know~\"$$\n",
    "\n",
    "If you find yourself wondering around some concepts in this Notebook, you might want to check\n",
    "\n",
    "- [Newton's laws](https://en.wikipedia.org/wiki/Newton%27s_laws_of_motion)\n",
    "\n",
    "- [Elastic collisions](https://en.wikipedia.org/wiki/Elastic_collision)\n",
    "\n",
    "- [Boltzmann's constant](https://en.wikipedia.org/wiki/Boltzmann_constant)\n",
    "---\n"
   ]
  },
  {
   "cell_type": "markdown",
   "id": "aab4839b",
   "metadata": {},
   "source": [
    "The proportionality between $\\color{red}{\\text{Temperature}}$ and $\\color{red}{\\text{Kinetic energy}}$ $ K_E \\propto T$ for gases is intuitive to a lot of students.This notebook is for those who enjoy having both maths and physics as a defence for their common knowledge. "
   ]
  },
  {
   "cell_type": "markdown",
   "id": "06e2f2d8",
   "metadata": {},
   "source": [
    "### Step 1: Sett up the calculation of the change in momentum"
   ]
  },
  {
   "cell_type": "markdown",
   "id": "8cbcb80c",
   "metadata": {},
   "source": [
    "Assuming we have a box with a volume V, containing one gas particle with a mass $m$ and a velocity <em>$v_x$. Hence moving with a velocity <em>v in the positive <em>x axes direction. "
   ]
  },
  {
   "cell_type": "code",
   "execution_count": null,
   "id": "3f81ef5b",
   "metadata": {},
   "outputs": [],
   "source": [
    "#Installing needed libraries \n",
    "!pip install bubblebox evince"
   ]
  },
  {
   "cell_type": "code",
   "execution_count": null,
   "id": "fc5dc3ed",
   "metadata": {},
   "outputs": [],
   "source": [
    "import bubblebox as bb\n",
    "import evince as ev\n",
    "from bubblebox.mdbox import no_forces\n",
    "\n",
    "import matplotlib.pyplot as plt\n",
    "import numpy as np\n",
    "\n",
    "%matplotlib notebook\n",
    "ev.enable_notebook() # Must be last line"
   ]
  },
  {
   "cell_type": "code",
   "execution_count": null,
   "id": "543e27e4",
   "metadata": {},
   "outputs": [],
   "source": [
    "s1 = bb.mdbox(n_bubbles =1, size = (1,1), vel = 1)\n",
    "s1.view()"
   ]
  },
  {
   "cell_type": "code",
   "execution_count": null,
   "id": "576362cc",
   "metadata": {},
   "outputs": [],
   "source": [
    "while True:\n",
    "    s1.advance()\n",
    "    s1.update_view()"
   ]
  },
  {
   "cell_type": "markdown",
   "id": "10c9ae3c",
   "metadata": {},
   "source": [
    "The momentum of a body is by definition its mass multiplied by its velocity: \n",
    "\n",
    " $momentum = m \\cdot v$\n",
    "\n",
    "The moving particle as shown in the box, will collide with the wall and is reflected. Assuming that the collision with the wall is perfectly elastic, resulting to zero loss in momentum, it is possible to calculate the absulte change in momentum. \n",
    "\n",
    "$\\Delta momentum ~\t= | momentum_{after~collision} – momentum_{before~ collision}|$\n",
    "\n",
    "$~~~~~~~~~~~~~~~~~~~~~= | -m  v_x – m v_x| $\n",
    "\n",
    "$~~~~~~~~~~~~~~~~~~~~~= |-2mv_x| $\n",
    "\n",
    "$~~~~~~~~~~~~~~~~~~~~~= 2mv_x$\n",
    "                   \n",
    "Note that becouse the collisions are elastic, the particle will end up having the same velocity, yet in the opposite direction"
   ]
  },
  {
   "cell_type": "markdown",
   "id": "3c54e851",
   "metadata": {},
   "source": [
    "In a more complicated system, many molecules will collide with the wall in the interval $\\Delta t$, and the *Total change in momentum* is the product of the *change in momentum of each molecule*, multiplied by *the total number of molecules* that reach the wall at the interval."
   ]
  },
  {
   "cell_type": "markdown",
   "id": "4da79083",
   "metadata": {},
   "source": [
    "### Step 2: Enlarge the system and calculate the change in momentum"
   ]
  },
  {
   "cell_type": "markdown",
   "id": "beea6cff",
   "metadata": {},
   "source": [
    "Let's add more particles and enlarge the system to 3 dimentions. Setting the box to have a side area = <em> A, and a total volum = V\n",
    "\n",
    "**_Keep in mind:_**\n",
    "In order to calculate the total change in momentum, we need to calculate the total amount of particles that will collide with the wall in the given time interval"
   ]
  },
  {
   "cell_type": "code",
   "execution_count": null,
   "id": "2c711575",
   "metadata": {},
   "outputs": [],
   "source": [
    "s2 = bb.mdbox(n_bubbles =9, size = (4,2,2), vel = 0)\n",
    "\n",
    "#s2.set_forces(no_forces, force_params = 1, )"
   ]
  },
  {
   "cell_type": "code",
   "execution_count": null,
   "id": "b62e2c56",
   "metadata": {},
   "outputs": [],
   "source": [
    "s2.view()"
   ]
  },
  {
   "cell_type": "code",
   "execution_count": null,
   "id": "6370ed25",
   "metadata": {},
   "outputs": [],
   "source": [
    "while True: \n",
    "    s2.advance()\n",
    "    s2.update_view()"
   ]
  },
  {
   "cell_type": "markdown",
   "id": "7f029be9",
   "metadata": {},
   "source": [
    "Knowing that the velocity of a particle is defined as the distance travelled at a time interval $v_x = \\frac{\\Delta x}{\\Delta t}$, the distance a molecule travels by is $\\Delta x = {v_x} \\Delta t$\n",
    "\n",
    "This means that all the particles with the given velocity ${v_x}$ and a position within a distance $\\Delta x = {v_x} \\Delta t$ from the boxes wall will collide with it (given that the particles are moving towards that wall) \n",
    "\n",
    "As the box is sat to have a wall area = <em>A . All the particles in the volume $|{v_x}\\cdot \\Delta t|\\cdot A$ will collide with the wall (given that they are moving toward it) "
   ]
  },
  {
   "cell_type": "markdown",
   "id": "c09bd1b6",
   "metadata": {},
   "source": [
    "Assuming the box contain n mol of molecules. The density of the molecules in the whole box is the number of molecules divided by the boxes volume\n",
    "\n",
    "$particle~density = \\frac{n\\cdot N_A}{V}$\n",
    "\n",
    "Where $N_A$ = Avogadro’s constant\n",
    "\n",
    "This formula for particle density can be used to calculate the amount of particles at any volume fraction of the box. \n",
    "\n",
    "For the volume $|{v_x}\\cdot \\Delta t|\\cdot A$: \n",
    "\n",
    "The number of particles = $ \\frac{n\\cdot N_A}{V} \\cdot |{v_x}\\cdot \\Delta t|\\cdot A$ \n",
    "\n",
    "At any instant half of the particles will move towards the wall and the other half away from it, meaning that the average number of collision with the wall during the time interval $\\Delta t$ is halv the number of the particles,\n",
    "\n",
    "Mean number of collisions = $\\frac{1}{2} \\cdot \\frac{n\\cdot N_A}{V} \\cdot |{v_x}\\cdot \\Delta t|\\cdot A $"
   ]
  },
  {
   "cell_type": "markdown",
   "id": "5c4b61ac",
   "metadata": {},
   "source": [
    "**_Now:_** that we know the amount of patricles colliding **&** the change in momentum for one particle; Let us calculate the momentum change for the whole amount of particles: \n",
    "\n",
    "$\\Delta momentum = mean~number~of~collisions \\cdot 2m v_x$\n",
    "\n",
    "$\\Delta momentum =\\frac{1}{2} \\cdot \\frac{n\\cdot N_A}{V} \\cdot |{v_x}\\cdot \\Delta t|\\cdot A \\cdot 2m v_x $\n",
    "\n",
    "Given that $M = m \\cdot N_A$ we can rewrite the expression over to become: \n",
    "\n",
    "$\\Delta momentum = \\frac{n~M~A~v_x^2\\Delta t}{V}$"
   ]
  },
  {
   "cell_type": "markdown",
   "id": "06670f9b",
   "metadata": {},
   "source": [
    "### Step 3: Calculate the pressure _P_ from the change in momentum"
   ]
  },
  {
   "cell_type": "markdown",
   "id": "30c27cc2",
   "metadata": {},
   "source": [
    "**Pressure** is equal to the force devided by the area. And ccording to Newtons second law of motion this rate of change in momentum is equal to the **force**. \n",
    "\n",
    "Therfore: "
   ]
  },
  {
   "cell_type": "markdown",
   "id": "2ef5ebe4",
   "metadata": {},
   "source": [
    "The rate of change in moemntum $\\frac{\\Delta momentum}{\\Delta t} = \\frac{n~M~A~v_x^2}{V}$\n",
    "\n",
    "Pressure = $\\frac{ \\frac{n~M~A~v_x^2}{V}}{A}$\n",
    "\n",
    "Pressure = $\\frac{n~M~v_x^2}{V}$"
   ]
  },
  {
   "cell_type": "markdown",
   "id": "0934f4b7",
   "metadata": {},
   "source": [
    "$PV = {n~M~v_x^2}$"
   ]
  },
  {
   "cell_type": "markdown",
   "id": "a7b66863",
   "metadata": {},
   "source": [
    "### Step 4: Adding more Dimentions"
   ]
  },
  {
   "cell_type": "markdown",
   "id": "96a1cfce",
   "metadata": {},
   "source": [
    "The average values of $v_x^2 , v_y^2, v_z^2 $ are all the same\n",
    "\n",
    "Given that $ v^2 = v_x^2 + v_y^2 + v_z^2 $\n",
    "\n",
    "It follows that $v_x^2 = \\frac{1}{3}\\cdot v^2$\n"
   ]
  },
  {
   "cell_type": "markdown",
   "id": "731ae3cf",
   "metadata": {},
   "source": [
    "Sitting $v_x^2 = \\frac{1}{3}\\cdot v^2$ in the pressure expression:\n",
    "\n",
    "$PV = \\frac{1}{3} n~M~v^2$\n",
    "\n",
    "$PV = \\frac{1}{3} n~M~v^2$"
   ]
  },
  {
   "cell_type": "markdown",
   "id": "3a21cb10",
   "metadata": {},
   "source": [
    "### Step 5: Inserting Temperature _T_ in our expression"
   ]
  },
  {
   "cell_type": "markdown",
   "id": "0a399814",
   "metadata": {},
   "source": [
    "Using the ideal gass equation $PV = nRT$\n",
    "\n",
    "$nRT =  \\frac{1}{3} n~M~v^2 $\n",
    "\n",
    "$RT =  \\frac{1}{3} M~v^2$"
   ]
  },
  {
   "cell_type": "markdown",
   "id": "6408d114",
   "metadata": {},
   "source": [
    "Setting back M to its value $M = m \\cdot N_A$\n",
    "\n",
    "$RT =  \\frac{1}{3} m \\cdot N_A~v^2$"
   ]
  },
  {
   "cell_type": "markdown",
   "id": "a98b81f1",
   "metadata": {},
   "source": [
    "Fram here, we can rearrange the equation to get the expression of the kinetic energy in the right side, by multiplying both sides with $\\frac{3}{2 N_A}$"
   ]
  },
  {
   "cell_type": "markdown",
   "id": "819501a6",
   "metadata": {},
   "source": [
    "$\\frac{3}{2} RT = \\frac{1}{2} m \\cdot N_A v^2$"
   ]
  },
  {
   "cell_type": "markdown",
   "id": "14975216",
   "metadata": {},
   "source": [
    "$\\frac{3}{2} \\frac{RT}{N_A} = \\frac{1}{2} m v^2$"
   ]
  },
  {
   "cell_type": "markdown",
   "id": "33bada8c",
   "metadata": {},
   "source": [
    "Given that Boltzmann's constant $k_B = \\frac{R}{N_A}$ "
   ]
  },
  {
   "cell_type": "markdown",
   "id": "0dc67586",
   "metadata": {},
   "source": [
    "$\\frac{3}{2} k_B T = \\frac{1}{2} m v^2$"
   ]
  },
  {
   "cell_type": "markdown",
   "id": "043618fd",
   "metadata": {},
   "source": [
    "resulting to: \n",
    "\n",
    "$\\color{red}{\\text{$E_k = \\frac{3}{2} k_B T$}}$"
   ]
  },
  {
   "cell_type": "markdown",
   "id": "866e1e29",
   "metadata": {},
   "source": [
    "---"
   ]
  }
 ],
 "metadata": {
  "kernelspec": {
   "display_name": "Python 3 (ipykernel)",
   "language": "python",
   "name": "python3"
  },
  "language_info": {
   "codemirror_mode": {
    "name": "ipython",
    "version": 3
   },
   "file_extension": ".py",
   "mimetype": "text/x-python",
   "name": "python",
   "nbconvert_exporter": "python",
   "pygments_lexer": "ipython3",
   "version": "3.10.5"
  }
 },
 "nbformat": 4,
 "nbformat_minor": 5
}
