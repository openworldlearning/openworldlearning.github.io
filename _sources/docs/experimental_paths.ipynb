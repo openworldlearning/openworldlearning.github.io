{
 "cells": [
  {
   "cell_type": "markdown",
   "id": "24d985b7",
   "metadata": {},
   "source": [
    "# Bringing theory and experiment closer with computers\n",
    "\n",
    "<b>Authors:</b> Ayla S. Coder <a href=\"mailto:a.s.hansen@kjemi.uio.no\">✉️</a> and Audun Skau Hansen <a href=\"mailto:a.s.hansen@kjemi.uio.no\">✉️</a> \n",
    "\n",
    "The Hylleraas Centre for Quantum Molecular Sciences and\n",
    "The Centre for Computing in Science Education,\n",
    "2022\n",
    "\n",
    "--- "
   ]
  },
  {
   "cell_type": "markdown",
   "id": "9688b0ed",
   "metadata": {},
   "source": [
    "````{margin}\n",
    "![Experiment and theory](experiment/temp_openworld.png)\n",
    "Computing as a brigde between experiment and theory\n",
    "````"
   ]
  },
  {
   "cell_type": "code",
   "execution_count": null,
   "id": "01a64fa3",
   "metadata": {},
   "outputs": [],
   "source": []
  }
 ],
 "metadata": {
  "kernelspec": {
   "display_name": "Python 3 (ipykernel)",
   "language": "python",
   "name": "python3"
  },
  "language_info": {
   "codemirror_mode": {
    "name": "ipython",
    "version": 3
   },
   "file_extension": ".py",
   "mimetype": "text/x-python",
   "name": "python",
   "nbconvert_exporter": "python",
   "pygments_lexer": "ipython3",
   "version": "3.8.9"
  }
 },
 "nbformat": 4,
 "nbformat_minor": 5
}
