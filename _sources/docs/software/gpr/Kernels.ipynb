{
 "cells": [
  {
   "cell_type": "markdown",
   "metadata": {},
   "source": [
    "# Kernels\n",
    "\n",
    "<b>Developed by</b> Elias Anderssen Dalan <a href=\"mailto:ceadyy@gmail.com\">✉️</a>, supported by Centre for Computing in Science Education and Hylleraas Centre for Quantum Molecular Sciences."
   ]
  },
  {
   "cell_type": "markdown",
   "metadata": {},
   "source": [
    "### Things you might need to know before tackling this notebook:\n",
    "<ul>\n",
    "    <li><a href=\"https://audunsh.github.io/openworld/Covariance/\">Notebook on covariance</a>\n",
    "    <li><a href=\"https://en.wikipedia.org/wiki/Euclidean_distance\">What does eucleadian distance mean?</a>\n",
    "</ul>"
   ]
  },
  {
   "cell_type": "markdown",
   "metadata": {},
   "source": [
    "A crucial ingredient of Gaussian Processes (GPs) is the kernel function (also called the covariance function). The kernel determines the similarity between two data points, under the assumption that similar datapoints share similar output values. The kernel function, often shown as $k(\\mathbf{x_i},\\mathbf{x_j})$ can take on different shapes. \n",
    "\n",
    "For instance you have the constant kernel,\n",
    "\\begin{equation}\n",
    "        k(\\mathbf{x_i},\\mathbf{x_j}) = c,\n",
    "\\end{equation}\n",
    "\n",
    "the rational quadratic kernel (RQ),\n",
    "\\begin{equation}\n",
    "        k(\\mathbf{x_i},\\mathbf{x_j}) = (1 + d(\\mathbf{x_i},\\mathbf{x_j}))^{-\\alpha},\n",
    "\\end{equation}\n",
    "\n",
    "And the radial basis function (RBF):\n",
    "\\begin{equation}\n",
    "        k(\\mathbf{x_i},\\mathbf{x_j}) =e^{-l\\cdot d(x_i, x_j)^2},\n",
    "\\end{equation}\n",
    "where $d(x_i, x_j) = |\\mathbf{x_i} - \\mathbf{x_j}|$ (the euclidian distance)."
   ]
  },
  {
   "cell_type": "markdown",
   "metadata": {},
   "source": [
    "### Why is this important?\n",
    "\n",
    "When we want to use Gaussian process regression to create a model corresponding to some data $X_1$, and use this model to predict output for some new data $X_2$ we need some way to express the similarity between the data in $X_1$ and the data in $X_2$. This is where the kernel comes in. We construct a covariance matrix just like shown in the <a href=\"https://audunsh.github.io/openworld/Covariance/\">Notebook on covariance</a>, but we let the kernel, k, determine the covariance! Given $V = (\\mathbf{v_{1}},\\mathbf{v_{2}}, ..., \\mathbf{v_{n}})$ and $W = (\\mathbf{w_{1}},\\mathbf{w_{2}}, ..., \\mathbf{w_{m}})$ we can construct a covariance matrix which will look like this:\n",
    "\n",
    "\\begin{equation}\n",
    "    K(V, W) =\n",
    "    \\label{eqn:covmatrix}\n",
    "    \\begin{bmatrix}\n",
    "    k(v_1,w_1) & k(v_1,w_2) & k(v_1,w_3) & \\dots & k(v_1,w_n) \\\\\n",
    "    k(v_2,w_1) & k(v_2,w_2) & k(v_2,w_3) & \\dots & k(v_2,w_n)\\\\\n",
    "    k(v_3,w_1) & k(v_3,w_2) & k(v_3,w_3) & \\dots & k(v_3,w_n) \\\\\n",
    "    \\vdots & \\vdots & \\vdots & \\ddots & \\vdots \\\\\n",
    "    k(v_m,w_1) & k(v_m,w_2) & k(v_m,w_3) & \\dots & k(v_m,w_n)\n",
    "\\end{bmatrix}\n",
    "\\end{equation}\n",
    "\n",
    "The module btjenesten (which will be used for the rest of the GPR-series) has a module names kernels, where some kernels are implemented. These can be downloaded using ```pip install btjenesten```. Under is an example of how a covariance-matrix is constructed from two datasets."
   ]
  },
  {
   "cell_type": "code",
   "execution_count": 1,
   "metadata": {},
   "outputs": [],
   "source": [
    "from btjenesten import kernels\n",
    "import numpy as np"
   ]
  },
  {
   "cell_type": "code",
   "execution_count": 2,
   "metadata": {},
   "outputs": [
    {
     "name": "stdout",
     "output_type": "stream",
     "text": [
      "[[1.67017008e-05 1.00000000e+00]\n",
      " [4.97870684e-02 3.35462628e-04]]\n"
     ]
    }
   ],
   "source": [
    "v1 = [1, 2, 3]\n",
    "v2 = [3, 2, 1]\n",
    "\n",
    "w1 = [4, 3, 2]\n",
    "w2 = [1, 2, 3]\n",
    "\n",
    "V = [v1, v2]\n",
    "V = np.array(V)\n",
    "\n",
    "W = [w1, w2]\n",
    "W = np.array(W)\n",
    "\n",
    "cov_VW = kernels.RBF(V, W)\n",
    "\n",
    "print(cov_VW)"
   ]
  },
  {
   "cell_type": "markdown",
   "metadata": {},
   "source": [
    "As you can see the top right element is equal to one, since $\\mathbf{v_1} = \\mathbf{w_2}$ ! \n",
    "\n",
    "Now you have a grasp of the kernel used in Gaussian process regression, and how it is used."
   ]
  }
 ],
 "metadata": {
  "kernelspec": {
   "display_name": "Python 3",
   "language": "python",
   "name": "python3"
  },
  "language_info": {
   "codemirror_mode": {
    "name": "ipython",
    "version": 3
   },
   "file_extension": ".py",
   "mimetype": "text/x-python",
   "name": "python",
   "nbconvert_exporter": "python",
   "pygments_lexer": "ipython3",
   "version": "3.8.3"
  }
 },
 "nbformat": 4,
 "nbformat_minor": 4
}
