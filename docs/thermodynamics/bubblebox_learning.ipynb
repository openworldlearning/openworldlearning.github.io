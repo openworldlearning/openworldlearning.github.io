{
 "cells": [
  {
   "cell_type": "code",
   "execution_count": null,
   "id": "c256e4a9",
   "metadata": {},
   "outputs": [],
   "source": [
    "import evince as ev\n",
    "import bubblebox as bb\n",
    "import matplotlib.pyplot as plt\n",
    "import numpy as np\n",
    "\n",
    "from bubblebox.mdbox import lj_force, hook_force, no_forces, coulomb_force\n",
    "\n",
    "ev.enable_notebook()"
   ]
  },
  {
   "cell_type": "code",
   "execution_count": null,
   "id": "4561f4a9",
   "metadata": {},
   "outputs": [],
   "source": [
    "# simple harmonic oscillator (classical)\n",
    "\n",
    "b = bb.mdbox(n_bubbles = 2, size = (3,3))\n",
    "b.set_masses([1.0, 2.0])\n",
    "\n",
    "b.pos[:,0] = np.array([-.6,0])\n",
    "b.pos[:,1] = np.array([ .6,0])\n",
    "\n",
    "\n",
    "print(\"Particle 0 position:\", b.pos[:,0])\n",
    "print(\"Particle 1 position:\", b.pos[:,1])\n",
    "\n",
    "\n",
    "# set forces between particles to harmonic oscillator\n",
    "# V = constant * (separation - equilibrium_distance)**2\n",
    "constant = 4.0\n",
    "equilibrium_distance = 2\n",
    "b.set_forces(hook_force, np.array([constant,equilibrium_distance]))\n",
    "\n",
    "\n",
    "\n",
    "b.view()"
   ]
  },
  {
   "cell_type": "code",
   "execution_count": null,
   "id": "1e1b85db",
   "metadata": {},
   "outputs": [],
   "source": [
    "while True:\n",
    "    b.advance()\n",
    "    b.update_view()"
   ]
  },
  {
   "cell_type": "code",
   "execution_count": null,
   "id": "d9b2a7df",
   "metadata": {},
   "outputs": [],
   "source": [
    "# simple coulomb attraction  (or repulsion)\n",
    "\n",
    "b = bb.mdbox(n_bubbles = 2, size = (10000,10000))\n",
    "\n",
    "b.set_masses([1.0,2.0])\n",
    "\n",
    "b.pos[:,0] = np.array([0,1])\n",
    "b.pos[:,1] = np.array([1,0])\n",
    "\n",
    "b.r2_cut = 10000 # infinite attraction\n",
    "print(\"Particle 0 position:\", b.pos[:,0])\n",
    "print(\"Particle 1 position:\", b.pos[:,1])\n",
    "\n",
    "# Coulomb force\n",
    "# F = -constant*Q1*Q1/separation\n",
    "\n",
    "\n",
    "#charges\n",
    "Q1 = 1.0\n",
    "Q2 = -1.0\n",
    "\n",
    "Q1Q2 = Q1*Q2\n",
    "\n",
    "\n",
    "\n",
    "# charges\n",
    "constant = 10.0\n",
    "\n",
    "b.set_forces(coulomb_force, np.array([constant, Q1Q2]))\n",
    "\n",
    "\n",
    "print(\"Interactions:\")\n",
    "print(b.interactions)\n",
    "print(\"Potential between particle 0 and 1:\")\n",
    "\n",
    "b.pos[:,0] = np.array([1,0])\n",
    "b.pos[:,1] = np.array([0,1])\n",
    "# set charges:\n",
    "\n",
    "\n",
    "\n",
    "\n",
    "\n",
    "b.view()"
   ]
  },
  {
   "cell_type": "code",
   "execution_count": null,
   "id": "531bc677",
   "metadata": {},
   "outputs": [],
   "source": [
    "while True:\n",
    "    b.advance()\n",
    "    b.update_view()"
   ]
  },
  {
   "cell_type": "code",
   "execution_count": null,
   "id": "2a096503",
   "metadata": {},
   "outputs": [],
   "source": []
  },
  {
   "cell_type": "code",
   "execution_count": null,
   "id": "3db7e0dc",
   "metadata": {},
   "outputs": [],
   "source": [
    "b = bb.mdbox(2, size = (-10,-10))\n",
    "b.pos *= .1\n",
    "b.set_masses(1000, np.array([0])) #adjust the mass of one particle\n",
    "\n",
    "b.view() # set manually the number of iterations per frame "
   ]
  },
  {
   "cell_type": "code",
   "execution_count": null,
   "id": "bc18f56f",
   "metadata": {},
   "outputs": [],
   "source": [
    "while True:\n",
    "    b.advance()\n",
    "    b.update_view()"
   ]
  },
  {
   "cell_type": "code",
   "execution_count": null,
   "id": "926f8e5b",
   "metadata": {},
   "outputs": [],
   "source": [
    "b = bb.showcase.fcc_system(lattice_parameter=1.5)\n",
    "\n",
    "# select at random 100 unique bubbles \n",
    "selection = np.random.choice(b.n_bubbles, 100, replace = False)\n",
    "\n",
    "# set the selected bubbles mass to 4\n",
    "b.set_masses(4.0, selection)\n",
    "\n",
    "# set the selected bubbles to inactive\n",
    "b.active[selection] = False\n",
    "b.view()"
   ]
  },
  {
   "cell_type": "code",
   "execution_count": null,
   "id": "2ac78c08",
   "metadata": {},
   "outputs": [],
   "source": [
    "while True:\n",
    "    b.advance()\n",
    "    b.update_view()"
   ]
  },
  {
   "cell_type": "code",
   "execution_count": null,
   "id": "ca94c892",
   "metadata": {},
   "outputs": [],
   "source": []
  },
  {
   "cell_type": "code",
   "execution_count": null,
   "id": "d97bb112",
   "metadata": {},
   "outputs": [],
   "source": [
    "b = bb.showcase.fcc_system(lattice_parameter=1.4)\n",
    "\n",
    "# select a spherical shell\n",
    "r = 2.0 #radius\n",
    "selection = np.abs(np.sqrt(b.pos[0]**2 + b.pos[1]**2 + b.pos[2]**2)-r)<0.8\n",
    "\n",
    "# a solid sphere\n",
    "selection = np.sqrt(b.pos[0]**2 + b.pos[1]**2)<r\n",
    "\n",
    "\n",
    "\n",
    "\n",
    "# set the selected bubbles mass to 4\n",
    "b.masses[selection] = 4\n",
    "\n",
    "# set the selected bubbles to inactive\n",
    "b.active[selection] = False\n",
    "b.view()"
   ]
  },
  {
   "cell_type": "code",
   "execution_count": null,
   "id": "c81d663d",
   "metadata": {},
   "outputs": [],
   "source": [
    "n = 12\n",
    "b = bb.mdbox(n_bubbles = n**2, size = (7,7), vel = 0.1)\n",
    "\n",
    "species_a = np.arange(int(.5*n**2))\n",
    "species_b = np.arange(int(.5*n**2), n**2)\n",
    "\n",
    "b.set_masses(2.0, species_a)\n",
    "\n",
    "\n",
    "\n",
    "d2, d1 = np.sqrt(2), 1\n",
    "\n",
    "# set forces between a and b\n",
    "b.set_forces(lj_force, np.array([10.0, d1]), species_a, species_b)\n",
    "\n",
    "# set forces within a and a\n",
    "b.set_forces(lj_force, np.array([10.0, d2]),  species_a, species_b)\n",
    "\n",
    "# set forces within b and b\n",
    "b.set_forces(lj_force, np.array([10.0, d2]),  species_a, species_b)\n",
    "\n",
    "\n",
    "\n",
    "b.view()"
   ]
  },
  {
   "cell_type": "code",
   "execution_count": null,
   "id": "de2b8efd",
   "metadata": {},
   "outputs": [],
   "source": [
    "while True:\n",
    "    for j in range(10):\n",
    "        b.advance()\n",
    "    b.update_view()\n",
    "    b.vel_ *= .95"
   ]
  },
  {
   "cell_type": "code",
   "execution_count": null,
   "id": "26b52f4b",
   "metadata": {},
   "outputs": [],
   "source": []
  }
 ],
 "metadata": {
  "kernelspec": {
   "display_name": "Python 3 (ipykernel)",
   "language": "python",
   "name": "python3"
  },
  "language_info": {
   "codemirror_mode": {
    "name": "ipython",
    "version": 3
   },
   "file_extension": ".py",
   "mimetype": "text/x-python",
   "name": "python",
   "nbconvert_exporter": "python",
   "pygments_lexer": "ipython3",
   "version": "3.7.4"
  }
 },
 "nbformat": 4,
 "nbformat_minor": 5
}
