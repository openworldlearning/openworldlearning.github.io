{
 "cells": [
  {
   "cell_type": "markdown",
   "id": "3a5c2ea6",
   "metadata": {},
   "source": [
    "# How does temperature relate to kinetic energy in gases?\n",
    "\n",
    "<b>Author:</b> Hanan Gharayba ( <a href=\"https://www.linkedin.com/in/hanan-gharayba-6a5799207/\"><i class=\"fa fa-linkedin\" aria-hidden=\"true\"></i></a> ) <b>Editor:</b> Audun Skau Hansen <a href=\"mailto:a.s.hansen@kjemi.uio.no\">✉️</a> \n",
    "\n",
    "The Hylleraas Centre for Quantum Molecular Sciences and\n",
    "The Centre for Computing in Science Education,\n",
    "2022\n",
    "\n",
    "---"
   ]
  },
  {
   "cell_type": "markdown",
   "id": "525c6c3b",
   "metadata": {},
   "source": [
    ">\"True Knowledge Is Knowing What You Don't Know\"\n",
    "\n",
    "If you find yourself wondering around some concepts in this Notebook, you might want to check\n",
    "\n",
    "- [Newton's laws](https://en.wikipedia.org/wiki/Newton%27s_laws_of_motion)\n",
    "\n",
    "- [Elastic collisions](https://en.wikipedia.org/wiki/Elastic_collision)\n",
    "\n",
    "- [Boltzmann's constant](https://en.wikipedia.org/wiki/Boltzmann_constant)\n",
    "\n",
    "---\n"
   ]
  },
  {
   "cell_type": "markdown",
   "id": "aab4839b",
   "metadata": {},
   "source": [
    "````{margin}\n",
    "![Temperature and kinetics](temp_openworld.png)\n",
    "Temperature as kinetic energy\n",
    "````\n",
    "\n",
    "The concept of temperature establishes a strong connection between the microscopic and macroscopic world, and between theory and experiment. Furthermore, the proportionality between $\\color{red}{\\text{temperature}}$ and $\\color{red}{\\text{kinetic energy}}$, $ K_E \\propto T$, may for many students of thermodynamics offer an efficient path into a deeper understanding.\n",
    "\n",
    "This notebook is for those who enjoy having both maths and physics as a defence for their common knowledge. Our main aim is to establish the proportionality relation. "
   ]
  },
  {
   "cell_type": "markdown",
   "id": "bb3ec129",
   "metadata": {},
   "source": [
    "# Installation\n",
    "\n",
    "We will mainly use ```bubblebox.mdbox```-module for simulations in this experience. Install it using "
   ]
  },
  {
   "cell_type": "code",
   "execution_count": null,
   "id": "c7506356",
   "metadata": {},
   "outputs": [],
   "source": [
    "!pip install bubblebox"
   ]
  },
  {
   "cell_type": "markdown",
   "id": "5ca6f167",
   "metadata": {},
   "source": [
    "then load the relevant modules using"
   ]
  },
  {
   "cell_type": "code",
   "execution_count": null,
   "id": "b3933423",
   "metadata": {},
   "outputs": [],
   "source": [
    "import bubblebox as bb\n",
    "from bubblebox.mdbox import no_forces\n",
    "\n",
    "import matplotlib.pyplot as plt\n",
    "import numpy as np\n",
    "\n",
    "%matplotlib notebook"
   ]
  },
  {
   "cell_type": "markdown",
   "id": "3465f42f",
   "metadata": {},
   "source": [
    "# Preliminaries"
   ]
  },
  {
   "cell_type": "markdown",
   "id": "c1b04f3a",
   "metadata": {},
   "source": [
    "## Thermodynamical energy \n",
    "\n",
    "The concept of energy ($U$) lies deeply rooted in our understanding of nature. Energy is the ability to do work ($W$) or heat ($Q$), as expressed in the first law of thermodynamics:\n",
    "\n",
    "$$\n",
    "\\Delta U = Q - W\n",
    "$$\n",
    "\n",
    "Understanding temperature in the lab is rather straightforward: it is the number we read off the thermometer. At the microscopic level, however, it is a little more diffuse. The key is to realize that molecules and atoms have mechanisms of storing and transmitting energy.\n",
    "\n",
    "## Classical mechanics at the microscopic level\n",
    "\n",
    "Although the microscopic world is ultimately most accurately described by quantum mechanics, there are many situations where a classical depiction is more than sufficient. By *classical*, we here mean to consider the microscopic world as consisting of small bodies ($i$) of mass $m_i$, with well defined positions ($\\mathbf{x}_i$) and velocities ($\\mathbf{v}_i$). \n",
    "\n",
    "In this picture, the classical laws of physics comes into play. Most notably, the motion of these objects will be governed by Newton's second law:\n",
    "\n",
    "$$\n",
    "\\mathbf{F} = m \\big{(}\\frac{d}{dt} \\big{)}^2 \\mathbf{x}(t)\n",
    "$$\n",
    "\n",
    "where the forces $\\mathbf{F}$ are determined by the interaction between the bodies. The bodies themselves can be molecules, atoms, or even smaller quantities (although at the electronic level the model fails to reproduce reality). \n",
    "\n",
    "In the following, we will use these basic building blocks to gain insight into the collective and intensive property of temperature.\n",
    "\n",
    "## Energy at the microscopic level\n",
    "\n",
    "In the classical picture, molecules and atoms can store and transmit energy in many ways. A single atom, interacting with its surroundings, may experience changes in its *kinetic energy*:\n",
    "\n",
    "$$\n",
    "E_{k,i} = \\frac{1}{2} m_i \\mathbf{v}_i^2 ,\n",
    "$$\n",
    "\n",
    "or changes in its potential energy in relation to it's surroundings (for instance the position of the other atoms):\n",
    "\n",
    "$$\n",
    "U_i = U(\\{ \\mathbf{x}_{j \\neq i} \\}),\n",
    "$$"
   ]
  },
  {
   "cell_type": "markdown",
   "id": "06e2f2d8",
   "metadata": {},
   "source": [
    "# Step 1: Set up the calculation of the change in momentum"
   ]
  },
  {
   "cell_type": "markdown",
   "id": "8cbcb80c",
   "metadata": {},
   "source": [
    "Consider a box with a volume V, containing one gas particle with a mass $m$ and a velocity $v_x>0$, hence moving with a velocity v in the positive x axes direction. "
   ]
  },
  {
   "cell_type": "code",
   "execution_count": 20,
   "id": "543e27e4",
   "metadata": {},
   "outputs": [
    {
     "data": {
      "application/vnd.jupyter.widget-view+json": {
       "model_id": "cad9f99df8f54092a5c5f9cf5a66c06d",
       "version_major": 2,
       "version_minor": 0
      },
      "text/plain": [
       "MDView(box=[5, 5, 5], colors=[[0.051766037330882586, 0.5340230247447305, 0.23921895940333737]], init=True, mas…"
      ]
     },
     "metadata": {},
     "output_type": "display_data"
    }
   ],
   "source": [
    "b1 = bb.mdbox(n_bubbles = 1, size = (5,5, 5))\n",
    "b1.set_vel(np.array([[10],[0], [0]])) #any array of size (3,1)\n",
    "b1.view()"
   ]
  },
  {
   "cell_type": "code",
   "execution_count": 19,
   "id": "576362cc",
   "metadata": {},
   "outputs": [],
   "source": [
    "b1.run(1000) #evolve the system 1000 steps"
   ]
  },
  {
   "cell_type": "markdown",
   "id": "10c9ae3c",
   "metadata": {},
   "source": [
    "The momentum ($\\mathbf{p}$) of a body is by definition its mass multiplied by its velocity: \n",
    "\n",
    "$$\\mathbf{p} = m \\cdot \\mathbf{v}$$\n",
    "\n",
    "The moving particle as shown in the box will collide with the wall and reflect. Assuming that the collision with the wall is *perfectly elastic*, meaning that it results in zero loss in net kinetic energy, the absolute change in momentum can be computed as:\n",
    "\n",
    "$\\vert \\Delta \\mathbf{p} \\vert ~\t= | momentum_{after~collision} – momentum_{before~ collision}|$\n",
    "\n",
    "$~~~~~~~~~~~~~~~~~~~~~= | -m  v_x – m v_x| $\n",
    "\n",
    "$~~~~~~~~~~~~~~~~~~~~~= |-2mv_x| $\n",
    "\n",
    "$~~~~~~~~~~~~~~~~~~~~~= 2mv_x$\n",
    "                   \n",
    "Note that because the collisions are elastic, the particle will end up having the same velocity, just in the opposite direction."
   ]
  },
  {
   "cell_type": "markdown",
   "id": "3c54e851",
   "metadata": {},
   "source": [
    "In a more complicated system, many molecules will collide with the wall in the interval $\\Delta t$, and the *Total change in momentum* is the product of the *change in momentum of each molecule*, multiplied by *the total number of molecules* that reach the wall during the interval."
   ]
  },
  {
   "cell_type": "markdown",
   "id": "113d116e",
   "metadata": {},
   "source": [
    "```{admonition} Discussion\n",
    "- Q1\n",
    "- Q2\n",
    "```"
   ]
  },
  {
   "cell_type": "markdown",
   "id": "4da79083",
   "metadata": {},
   "source": [
    "# Step 2: Enlarge the system and calculate the change in momentum"
   ]
  },
  {
   "cell_type": "markdown",
   "id": "beea6cff",
   "metadata": {},
   "source": [
    "Let's add more particles and enlarge the system to 3 dimentions. Setting the box to have a side area = <em> A, and a total volum = V\n",
    "\n",
    "**_Keep in mind:_**\n",
    "In order to calculate the total change in momentum, we need to calculate the total amount of particles that will collide with the wall in the given time interval"
   ]
  },
  {
   "cell_type": "code",
   "execution_count": 21,
   "id": "2c711575",
   "metadata": {},
   "outputs": [],
   "source": [
    "b2 = bb.mdbox(n_bubbles = 200, size = (15,5,5),vel = 0)\n",
    "b2.pos[0]*=5/20\n",
    " \n",
    "selection_1 = np.random.choice(b2.n_bubbles, 200)\n",
    "selection_2 = np.random.choice(b2.n_bubbles, 200)"
   ]
  },
  {
   "cell_type": "code",
   "execution_count": 22,
   "id": "b62e2c56",
   "metadata": {},
   "outputs": [
    {
     "data": {
      "application/vnd.jupyter.widget-view+json": {
       "model_id": "1c347c4d3b2d424a87b38c95b8a75fde",
       "version_major": 2,
       "version_minor": 0
      },
      "text/plain": [
       "MDView(box=[15, 5, 5], colors=[[0.20921710214748124, 0.06233491012027753, 0.7132033008896391], [0.209217102147…"
      ]
     },
     "metadata": {},
     "output_type": "display_data"
    }
   ],
   "source": [
    "b2.vel_[0, selection_1] -= 5.0\n",
    "b2.vel_[0, selection_2] += 10.0\n",
    " \n",
    "b2.view()"
   ]
  },
  {
   "cell_type": "code",
   "execution_count": 23,
   "id": "1a827b7c",
   "metadata": {},
   "outputs": [
    {
     "ename": "KeyboardInterrupt",
     "evalue": "",
     "output_type": "error",
     "traceback": [
      "\u001b[0;31m---------------------------------------------------------------------------\u001b[0m",
      "\u001b[0;31mKeyboardInterrupt\u001b[0m                         Traceback (most recent call last)",
      "Input \u001b[0;32mIn [23]\u001b[0m, in \u001b[0;36m<cell line: 1>\u001b[0;34m()\u001b[0m\n\u001b[0;32m----> 1\u001b[0m \u001b[43mb2\u001b[49m\u001b[38;5;241;43m.\u001b[39;49m\u001b[43mrun\u001b[49m\u001b[43m(\u001b[49m\u001b[38;5;241;43m10000\u001b[39;49m\u001b[43m)\u001b[49m\n",
      "File \u001b[0;32m~/Library/Python/3.8/lib/python/site-packages/bubblebox/mdbox.py:1050\u001b[0m, in \u001b[0;36mmdbox.run\u001b[0;34m(self, nsteps, n_iterations_per_step)\u001b[0m\n\u001b[1;32m   1048\u001b[0m \u001b[38;5;28;01mfor\u001b[39;00m j \u001b[38;5;129;01min\u001b[39;00m \u001b[38;5;28mrange\u001b[39m(n_iterations_per_step):\n\u001b[1;32m   1049\u001b[0m     \u001b[38;5;28mself\u001b[39m\u001b[38;5;241m.\u001b[39madvance()\n\u001b[0;32m-> 1050\u001b[0m \u001b[38;5;28;43mself\u001b[39;49m\u001b[38;5;241;43m.\u001b[39;49m\u001b[43mupdate_view\u001b[49m\u001b[43m(\u001b[49m\u001b[43m)\u001b[49m\n",
      "File \u001b[0;32m~/Library/Python/3.8/lib/python/site-packages/bubblebox/mdbox.py:1057\u001b[0m, in \u001b[0;36mmdbox.update_view\u001b[0;34m(self)\u001b[0m\n\u001b[1;32m   1056\u001b[0m \u001b[38;5;28;01mdef\u001b[39;00m \u001b[38;5;21mupdate_view\u001b[39m(\u001b[38;5;28mself\u001b[39m):\n\u001b[0;32m-> 1057\u001b[0m     \u001b[38;5;28;43mself\u001b[39;49m\u001b[38;5;241;43m.\u001b[39;49m\u001b[43mmview\u001b[49m\u001b[38;5;241;43m.\u001b[39;49m\u001b[43mpos\u001b[49m \u001b[38;5;241m=\u001b[39m \u001b[38;5;28mself\u001b[39m\u001b[38;5;241m.\u001b[39mpos\u001b[38;5;241m.\u001b[39mT\u001b[38;5;241m.\u001b[39mtolist()\n",
      "File \u001b[0;32m~/Library/Python/3.8/lib/python/site-packages/traitlets/traitlets.py:715\u001b[0m, in \u001b[0;36mTraitType.__set__\u001b[0;34m(self, obj, value)\u001b[0m\n\u001b[1;32m    713\u001b[0m     \u001b[38;5;28;01mraise\u001b[39;00m TraitError(\u001b[38;5;124m'\u001b[39m\u001b[38;5;124mThe \u001b[39m\u001b[38;5;124m\"\u001b[39m\u001b[38;5;132;01m%s\u001b[39;00m\u001b[38;5;124m\"\u001b[39m\u001b[38;5;124m trait is read-only.\u001b[39m\u001b[38;5;124m'\u001b[39m \u001b[38;5;241m%\u001b[39m \u001b[38;5;28mself\u001b[39m\u001b[38;5;241m.\u001b[39mname)\n\u001b[1;32m    714\u001b[0m \u001b[38;5;28;01melse\u001b[39;00m:\n\u001b[0;32m--> 715\u001b[0m     \u001b[38;5;28;43mself\u001b[39;49m\u001b[38;5;241;43m.\u001b[39;49m\u001b[43mset\u001b[49m\u001b[43m(\u001b[49m\u001b[43mobj\u001b[49m\u001b[43m,\u001b[49m\u001b[43m \u001b[49m\u001b[43mvalue\u001b[49m\u001b[43m)\u001b[49m\n",
      "File \u001b[0;32m~/Library/Python/3.8/lib/python/site-packages/traitlets/traitlets.py:2845\u001b[0m, in \u001b[0;36mList.set\u001b[0;34m(self, obj, value)\u001b[0m\n\u001b[1;32m   2843\u001b[0m     \u001b[38;5;28;01mreturn\u001b[39;00m \u001b[38;5;28msuper\u001b[39m()\u001b[38;5;241m.\u001b[39mset(obj, [value])\n\u001b[1;32m   2844\u001b[0m \u001b[38;5;28;01melse\u001b[39;00m:\n\u001b[0;32m-> 2845\u001b[0m     \u001b[38;5;28;01mreturn\u001b[39;00m \u001b[38;5;28;43msuper\u001b[39;49m\u001b[43m(\u001b[49m\u001b[43m)\u001b[49m\u001b[38;5;241;43m.\u001b[39;49m\u001b[43mset\u001b[49m\u001b[43m(\u001b[49m\u001b[43mobj\u001b[49m\u001b[43m,\u001b[49m\u001b[43m \u001b[49m\u001b[43mvalue\u001b[49m\u001b[43m)\u001b[49m\n",
      "File \u001b[0;32m~/Library/Python/3.8/lib/python/site-packages/traitlets/traitlets.py:704\u001b[0m, in \u001b[0;36mTraitType.set\u001b[0;34m(self, obj, value)\u001b[0m\n\u001b[1;32m    700\u001b[0m     silent \u001b[38;5;241m=\u001b[39m \u001b[38;5;28;01mFalse\u001b[39;00m\n\u001b[1;32m    701\u001b[0m \u001b[38;5;28;01mif\u001b[39;00m silent \u001b[38;5;129;01mis\u001b[39;00m \u001b[38;5;129;01mnot\u001b[39;00m \u001b[38;5;28;01mTrue\u001b[39;00m:\n\u001b[1;32m    702\u001b[0m     \u001b[38;5;66;03m# we explicitly compare silent to True just in case the equality\u001b[39;00m\n\u001b[1;32m    703\u001b[0m     \u001b[38;5;66;03m# comparison above returns something other than True/False\u001b[39;00m\n\u001b[0;32m--> 704\u001b[0m     \u001b[43mobj\u001b[49m\u001b[38;5;241;43m.\u001b[39;49m\u001b[43m_notify_trait\u001b[49m\u001b[43m(\u001b[49m\u001b[38;5;28;43mself\u001b[39;49m\u001b[38;5;241;43m.\u001b[39;49m\u001b[43mname\u001b[49m\u001b[43m,\u001b[49m\u001b[43m \u001b[49m\u001b[43mold_value\u001b[49m\u001b[43m,\u001b[49m\u001b[43m \u001b[49m\u001b[43mnew_value\u001b[49m\u001b[43m)\u001b[49m\n",
      "File \u001b[0;32m~/Library/Python/3.8/lib/python/site-packages/traitlets/traitlets.py:1374\u001b[0m, in \u001b[0;36mHasTraits._notify_trait\u001b[0;34m(self, name, old_value, new_value)\u001b[0m\n\u001b[1;32m   1373\u001b[0m \u001b[38;5;28;01mdef\u001b[39;00m \u001b[38;5;21m_notify_trait\u001b[39m(\u001b[38;5;28mself\u001b[39m, name, old_value, new_value):\n\u001b[0;32m-> 1374\u001b[0m     \u001b[38;5;28;43mself\u001b[39;49m\u001b[38;5;241;43m.\u001b[39;49m\u001b[43mnotify_change\u001b[49m\u001b[43m(\u001b[49m\n\u001b[1;32m   1375\u001b[0m \u001b[43m        \u001b[49m\u001b[43mBunch\u001b[49m\u001b[43m(\u001b[49m\n\u001b[1;32m   1376\u001b[0m \u001b[43m            \u001b[49m\u001b[43mname\u001b[49m\u001b[38;5;241;43m=\u001b[39;49m\u001b[43mname\u001b[49m\u001b[43m,\u001b[49m\n\u001b[1;32m   1377\u001b[0m \u001b[43m            \u001b[49m\u001b[43mold\u001b[49m\u001b[38;5;241;43m=\u001b[39;49m\u001b[43mold_value\u001b[49m\u001b[43m,\u001b[49m\n\u001b[1;32m   1378\u001b[0m \u001b[43m            \u001b[49m\u001b[43mnew\u001b[49m\u001b[38;5;241;43m=\u001b[39;49m\u001b[43mnew_value\u001b[49m\u001b[43m,\u001b[49m\n\u001b[1;32m   1379\u001b[0m \u001b[43m            \u001b[49m\u001b[43mowner\u001b[49m\u001b[38;5;241;43m=\u001b[39;49m\u001b[38;5;28;43mself\u001b[39;49m\u001b[43m,\u001b[49m\n\u001b[1;32m   1380\u001b[0m \u001b[43m            \u001b[49m\u001b[38;5;28;43mtype\u001b[39;49m\u001b[38;5;241;43m=\u001b[39;49m\u001b[38;5;124;43m\"\u001b[39;49m\u001b[38;5;124;43mchange\u001b[39;49m\u001b[38;5;124;43m\"\u001b[39;49m\u001b[43m,\u001b[49m\n\u001b[1;32m   1381\u001b[0m \u001b[43m        \u001b[49m\u001b[43m)\u001b[49m\n\u001b[1;32m   1382\u001b[0m \u001b[43m    \u001b[49m\u001b[43m)\u001b[49m\n",
      "File \u001b[0;32m/Library/Python/3.8/site-packages/ipywidgets/widgets/widget.py:685\u001b[0m, in \u001b[0;36mWidget.notify_change\u001b[0;34m(self, change)\u001b[0m\n\u001b[1;32m    681\u001b[0m \u001b[38;5;28;01mif\u001b[39;00m \u001b[38;5;28mself\u001b[39m\u001b[38;5;241m.\u001b[39mcomm \u001b[38;5;129;01mis\u001b[39;00m \u001b[38;5;129;01mnot\u001b[39;00m \u001b[38;5;28;01mNone\u001b[39;00m \u001b[38;5;129;01mand\u001b[39;00m \u001b[38;5;28mself\u001b[39m\u001b[38;5;241m.\u001b[39mcomm\u001b[38;5;241m.\u001b[39mkernel \u001b[38;5;129;01mis\u001b[39;00m \u001b[38;5;129;01mnot\u001b[39;00m \u001b[38;5;28;01mNone\u001b[39;00m:\n\u001b[1;32m    682\u001b[0m     \u001b[38;5;66;03m# Make sure this isn't information that the front-end just sent us.\u001b[39;00m\n\u001b[1;32m    683\u001b[0m     \u001b[38;5;28;01mif\u001b[39;00m name \u001b[38;5;129;01min\u001b[39;00m \u001b[38;5;28mself\u001b[39m\u001b[38;5;241m.\u001b[39mkeys \u001b[38;5;129;01mand\u001b[39;00m \u001b[38;5;28mself\u001b[39m\u001b[38;5;241m.\u001b[39m_should_send_property(name, \u001b[38;5;28mgetattr\u001b[39m(\u001b[38;5;28mself\u001b[39m, name)):\n\u001b[1;32m    684\u001b[0m         \u001b[38;5;66;03m# Send new state to front-end\u001b[39;00m\n\u001b[0;32m--> 685\u001b[0m         \u001b[38;5;28;43mself\u001b[39;49m\u001b[38;5;241;43m.\u001b[39;49m\u001b[43msend_state\u001b[49m\u001b[43m(\u001b[49m\u001b[43mkey\u001b[49m\u001b[38;5;241;43m=\u001b[39;49m\u001b[43mname\u001b[49m\u001b[43m)\u001b[49m\n\u001b[1;32m    686\u001b[0m \u001b[38;5;28msuper\u001b[39m(Widget, \u001b[38;5;28mself\u001b[39m)\u001b[38;5;241m.\u001b[39mnotify_change(change)\n",
      "File \u001b[0;32m/Library/Python/3.8/site-packages/ipywidgets/widgets/widget.py:554\u001b[0m, in \u001b[0;36mWidget.send_state\u001b[0;34m(self, key)\u001b[0m\n\u001b[1;32m    552\u001b[0m state, buffer_paths, buffers \u001b[38;5;241m=\u001b[39m _remove_buffers(state)\n\u001b[1;32m    553\u001b[0m msg \u001b[38;5;241m=\u001b[39m {\u001b[38;5;124m'\u001b[39m\u001b[38;5;124mmethod\u001b[39m\u001b[38;5;124m'\u001b[39m: \u001b[38;5;124m'\u001b[39m\u001b[38;5;124mupdate\u001b[39m\u001b[38;5;124m'\u001b[39m, \u001b[38;5;124m'\u001b[39m\u001b[38;5;124mstate\u001b[39m\u001b[38;5;124m'\u001b[39m: state, \u001b[38;5;124m'\u001b[39m\u001b[38;5;124mbuffer_paths\u001b[39m\u001b[38;5;124m'\u001b[39m: buffer_paths}\n\u001b[0;32m--> 554\u001b[0m \u001b[38;5;28;43mself\u001b[39;49m\u001b[38;5;241;43m.\u001b[39;49m\u001b[43m_send\u001b[49m\u001b[43m(\u001b[49m\u001b[43mmsg\u001b[49m\u001b[43m,\u001b[49m\u001b[43m \u001b[49m\u001b[43mbuffers\u001b[49m\u001b[38;5;241;43m=\u001b[39;49m\u001b[43mbuffers\u001b[49m\u001b[43m)\u001b[49m\n",
      "File \u001b[0;32m/Library/Python/3.8/site-packages/ipywidgets/widgets/widget.py:817\u001b[0m, in \u001b[0;36mWidget._send\u001b[0;34m(self, msg, buffers)\u001b[0m\n\u001b[1;32m    815\u001b[0m \u001b[38;5;124;03m\"\"\"Sends a message to the model in the front-end.\"\"\"\u001b[39;00m\n\u001b[1;32m    816\u001b[0m \u001b[38;5;28;01mif\u001b[39;00m \u001b[38;5;28mself\u001b[39m\u001b[38;5;241m.\u001b[39mcomm \u001b[38;5;129;01mis\u001b[39;00m \u001b[38;5;129;01mnot\u001b[39;00m \u001b[38;5;28;01mNone\u001b[39;00m \u001b[38;5;129;01mand\u001b[39;00m \u001b[38;5;28mself\u001b[39m\u001b[38;5;241m.\u001b[39mcomm\u001b[38;5;241m.\u001b[39mkernel \u001b[38;5;129;01mis\u001b[39;00m \u001b[38;5;129;01mnot\u001b[39;00m \u001b[38;5;28;01mNone\u001b[39;00m:\n\u001b[0;32m--> 817\u001b[0m     \u001b[38;5;28;43mself\u001b[39;49m\u001b[38;5;241;43m.\u001b[39;49m\u001b[43mcomm\u001b[49m\u001b[38;5;241;43m.\u001b[39;49m\u001b[43msend\u001b[49m\u001b[43m(\u001b[49m\u001b[43mdata\u001b[49m\u001b[38;5;241;43m=\u001b[39;49m\u001b[43mmsg\u001b[49m\u001b[43m,\u001b[49m\u001b[43m \u001b[49m\u001b[43mbuffers\u001b[49m\u001b[38;5;241;43m=\u001b[39;49m\u001b[43mbuffers\u001b[49m\u001b[43m)\u001b[49m\n",
      "File \u001b[0;32m/Library/Python/3.8/site-packages/ipykernel/comm/comm.py:137\u001b[0m, in \u001b[0;36mComm.send\u001b[0;34m(self, data, metadata, buffers)\u001b[0m\n\u001b[1;32m    135\u001b[0m \u001b[38;5;28;01mdef\u001b[39;00m \u001b[38;5;21msend\u001b[39m(\u001b[38;5;28mself\u001b[39m, data\u001b[38;5;241m=\u001b[39m\u001b[38;5;28;01mNone\u001b[39;00m, metadata\u001b[38;5;241m=\u001b[39m\u001b[38;5;28;01mNone\u001b[39;00m, buffers\u001b[38;5;241m=\u001b[39m\u001b[38;5;28;01mNone\u001b[39;00m):\n\u001b[1;32m    136\u001b[0m     \u001b[38;5;124;03m\"\"\"Send a message to the frontend-side version of this comm\"\"\"\u001b[39;00m\n\u001b[0;32m--> 137\u001b[0m     \u001b[38;5;28;43mself\u001b[39;49m\u001b[38;5;241;43m.\u001b[39;49m\u001b[43m_publish_msg\u001b[49m\u001b[43m(\u001b[49m\n\u001b[1;32m    138\u001b[0m \u001b[43m        \u001b[49m\u001b[38;5;124;43m\"\u001b[39;49m\u001b[38;5;124;43mcomm_msg\u001b[39;49m\u001b[38;5;124;43m\"\u001b[39;49m\u001b[43m,\u001b[49m\n\u001b[1;32m    139\u001b[0m \u001b[43m        \u001b[49m\u001b[43mdata\u001b[49m\u001b[38;5;241;43m=\u001b[39;49m\u001b[43mdata\u001b[49m\u001b[43m,\u001b[49m\n\u001b[1;32m    140\u001b[0m \u001b[43m        \u001b[49m\u001b[43mmetadata\u001b[49m\u001b[38;5;241;43m=\u001b[39;49m\u001b[43mmetadata\u001b[49m\u001b[43m,\u001b[49m\n\u001b[1;32m    141\u001b[0m \u001b[43m        \u001b[49m\u001b[43mbuffers\u001b[49m\u001b[38;5;241;43m=\u001b[39;49m\u001b[43mbuffers\u001b[49m\u001b[43m,\u001b[49m\n\u001b[1;32m    142\u001b[0m \u001b[43m    \u001b[49m\u001b[43m)\u001b[49m\n",
      "File \u001b[0;32m/Library/Python/3.8/site-packages/ipykernel/comm/comm.py:71\u001b[0m, in \u001b[0;36mComm._publish_msg\u001b[0;34m(self, msg_type, data, metadata, buffers, **keys)\u001b[0m\n\u001b[1;32m     69\u001b[0m metadata \u001b[38;5;241m=\u001b[39m {} \u001b[38;5;28;01mif\u001b[39;00m metadata \u001b[38;5;129;01mis\u001b[39;00m \u001b[38;5;28;01mNone\u001b[39;00m \u001b[38;5;28;01melse\u001b[39;00m metadata\n\u001b[1;32m     70\u001b[0m content \u001b[38;5;241m=\u001b[39m json_clean(\u001b[38;5;28mdict\u001b[39m(data\u001b[38;5;241m=\u001b[39mdata, comm_id\u001b[38;5;241m=\u001b[39m\u001b[38;5;28mself\u001b[39m\u001b[38;5;241m.\u001b[39mcomm_id, \u001b[38;5;241m*\u001b[39m\u001b[38;5;241m*\u001b[39mkeys))\n\u001b[0;32m---> 71\u001b[0m \u001b[38;5;28;43mself\u001b[39;49m\u001b[38;5;241;43m.\u001b[39;49m\u001b[43mkernel\u001b[49m\u001b[38;5;241;43m.\u001b[39;49m\u001b[43msession\u001b[49m\u001b[38;5;241;43m.\u001b[39;49m\u001b[43msend\u001b[49m\u001b[43m(\u001b[49m\n\u001b[1;32m     72\u001b[0m \u001b[43m    \u001b[49m\u001b[38;5;28;43mself\u001b[39;49m\u001b[38;5;241;43m.\u001b[39;49m\u001b[43mkernel\u001b[49m\u001b[38;5;241;43m.\u001b[39;49m\u001b[43miopub_socket\u001b[49m\u001b[43m,\u001b[49m\n\u001b[1;32m     73\u001b[0m \u001b[43m    \u001b[49m\u001b[43mmsg_type\u001b[49m\u001b[43m,\u001b[49m\n\u001b[1;32m     74\u001b[0m \u001b[43m    \u001b[49m\u001b[43mcontent\u001b[49m\u001b[43m,\u001b[49m\n\u001b[1;32m     75\u001b[0m \u001b[43m    \u001b[49m\u001b[43mmetadata\u001b[49m\u001b[38;5;241;43m=\u001b[39;49m\u001b[43mjson_clean\u001b[49m\u001b[43m(\u001b[49m\u001b[43mmetadata\u001b[49m\u001b[43m)\u001b[49m\u001b[43m,\u001b[49m\n\u001b[1;32m     76\u001b[0m \u001b[43m    \u001b[49m\u001b[43mparent\u001b[49m\u001b[38;5;241;43m=\u001b[39;49m\u001b[38;5;28;43mself\u001b[39;49m\u001b[38;5;241;43m.\u001b[39;49m\u001b[43mkernel\u001b[49m\u001b[38;5;241;43m.\u001b[39;49m\u001b[43mget_parent\u001b[49m\u001b[43m(\u001b[49m\u001b[38;5;124;43m\"\u001b[39;49m\u001b[38;5;124;43mshell\u001b[39;49m\u001b[38;5;124;43m\"\u001b[39;49m\u001b[43m)\u001b[49m\u001b[43m,\u001b[49m\n\u001b[1;32m     77\u001b[0m \u001b[43m    \u001b[49m\u001b[43mident\u001b[49m\u001b[38;5;241;43m=\u001b[39;49m\u001b[38;5;28;43mself\u001b[39;49m\u001b[38;5;241;43m.\u001b[39;49m\u001b[43mtopic\u001b[49m\u001b[43m,\u001b[49m\n\u001b[1;32m     78\u001b[0m \u001b[43m    \u001b[49m\u001b[43mbuffers\u001b[49m\u001b[38;5;241;43m=\u001b[39;49m\u001b[43mbuffers\u001b[49m\u001b[43m,\u001b[49m\n\u001b[1;32m     79\u001b[0m \u001b[43m\u001b[49m\u001b[43m)\u001b[49m\n",
      "File \u001b[0;32m~/Library/Python/3.8/lib/python/site-packages/jupyter_client/session.py:844\u001b[0m, in \u001b[0;36mSession.send\u001b[0;34m(self, stream, msg_or_type, content, parent, ident, buffers, track, header, metadata)\u001b[0m\n\u001b[1;32m    842\u001b[0m \u001b[38;5;28;01mif\u001b[39;00m \u001b[38;5;28mself\u001b[39m\u001b[38;5;241m.\u001b[39madapt_version:\n\u001b[1;32m    843\u001b[0m     msg \u001b[38;5;241m=\u001b[39m adapt(msg, \u001b[38;5;28mself\u001b[39m\u001b[38;5;241m.\u001b[39madapt_version)\n\u001b[0;32m--> 844\u001b[0m to_send \u001b[38;5;241m=\u001b[39m \u001b[38;5;28;43mself\u001b[39;49m\u001b[38;5;241;43m.\u001b[39;49m\u001b[43mserialize\u001b[49m\u001b[43m(\u001b[49m\u001b[43mmsg\u001b[49m\u001b[43m,\u001b[49m\u001b[43m \u001b[49m\u001b[43mident\u001b[49m\u001b[43m)\u001b[49m\n\u001b[1;32m    845\u001b[0m to_send\u001b[38;5;241m.\u001b[39mextend(buffers)\n\u001b[1;32m    846\u001b[0m longest \u001b[38;5;241m=\u001b[39m \u001b[38;5;28mmax\u001b[39m([\u001b[38;5;28mlen\u001b[39m(s) \u001b[38;5;28;01mfor\u001b[39;00m s \u001b[38;5;129;01min\u001b[39;00m to_send])\n",
      "File \u001b[0;32m~/Library/Python/3.8/lib/python/site-packages/jupyter_client/session.py:718\u001b[0m, in \u001b[0;36mSession.serialize\u001b[0;34m(self, msg, ident)\u001b[0m\n\u001b[1;32m    716\u001b[0m     content \u001b[38;5;241m=\u001b[39m \u001b[38;5;28mself\u001b[39m\u001b[38;5;241m.\u001b[39mnone\n\u001b[1;32m    717\u001b[0m \u001b[38;5;28;01melif\u001b[39;00m \u001b[38;5;28misinstance\u001b[39m(content, \u001b[38;5;28mdict\u001b[39m):\n\u001b[0;32m--> 718\u001b[0m     content \u001b[38;5;241m=\u001b[39m \u001b[38;5;28;43mself\u001b[39;49m\u001b[38;5;241;43m.\u001b[39;49m\u001b[43mpack\u001b[49m\u001b[43m(\u001b[49m\u001b[43mcontent\u001b[49m\u001b[43m)\u001b[49m\n\u001b[1;32m    719\u001b[0m \u001b[38;5;28;01melif\u001b[39;00m \u001b[38;5;28misinstance\u001b[39m(content, \u001b[38;5;28mbytes\u001b[39m):\n\u001b[1;32m    720\u001b[0m     \u001b[38;5;66;03m# content is already packed, as in a relayed message\u001b[39;00m\n\u001b[1;32m    721\u001b[0m     \u001b[38;5;28;01mpass\u001b[39;00m\n",
      "File \u001b[0;32m~/Library/Python/3.8/lib/python/site-packages/jupyter_client/session.py:99\u001b[0m, in \u001b[0;36mjson_packer\u001b[0;34m(obj)\u001b[0m\n\u001b[1;32m     97\u001b[0m \u001b[38;5;28;01mdef\u001b[39;00m \u001b[38;5;21mjson_packer\u001b[39m(obj):\n\u001b[1;32m     98\u001b[0m     \u001b[38;5;28;01mtry\u001b[39;00m:\n\u001b[0;32m---> 99\u001b[0m         \u001b[38;5;28;01mreturn\u001b[39;00m \u001b[43mjson\u001b[49m\u001b[38;5;241;43m.\u001b[39;49m\u001b[43mdumps\u001b[49m\u001b[43m(\u001b[49m\n\u001b[1;32m    100\u001b[0m \u001b[43m            \u001b[49m\u001b[43mobj\u001b[49m\u001b[43m,\u001b[49m\n\u001b[1;32m    101\u001b[0m \u001b[43m            \u001b[49m\u001b[43mdefault\u001b[49m\u001b[38;5;241;43m=\u001b[39;49m\u001b[43mjson_default\u001b[49m\u001b[43m,\u001b[49m\n\u001b[1;32m    102\u001b[0m \u001b[43m            \u001b[49m\u001b[43mensure_ascii\u001b[49m\u001b[38;5;241;43m=\u001b[39;49m\u001b[38;5;28;43;01mFalse\u001b[39;49;00m\u001b[43m,\u001b[49m\n\u001b[1;32m    103\u001b[0m \u001b[43m            \u001b[49m\u001b[43mallow_nan\u001b[49m\u001b[38;5;241;43m=\u001b[39;49m\u001b[38;5;28;43;01mFalse\u001b[39;49;00m\u001b[43m,\u001b[49m\n\u001b[1;32m    104\u001b[0m \u001b[43m        \u001b[49m\u001b[43m)\u001b[49m\u001b[38;5;241m.\u001b[39mencode(\u001b[38;5;124m\"\u001b[39m\u001b[38;5;124mutf8\u001b[39m\u001b[38;5;124m\"\u001b[39m, errors\u001b[38;5;241m=\u001b[39m\u001b[38;5;124m\"\u001b[39m\u001b[38;5;124msurrogateescape\u001b[39m\u001b[38;5;124m\"\u001b[39m)\n\u001b[1;32m    105\u001b[0m     \u001b[38;5;28;01mexcept\u001b[39;00m (\u001b[38;5;167;01mTypeError\u001b[39;00m, \u001b[38;5;167;01mValueError\u001b[39;00m) \u001b[38;5;28;01mas\u001b[39;00m e:\n\u001b[1;32m    106\u001b[0m         \u001b[38;5;66;03m# Fallback to trying to clean the json before serializing\u001b[39;00m\n\u001b[1;32m    107\u001b[0m         packed \u001b[38;5;241m=\u001b[39m json\u001b[38;5;241m.\u001b[39mdumps(\n\u001b[1;32m    108\u001b[0m             json_clean(obj),\n\u001b[1;32m    109\u001b[0m             default\u001b[38;5;241m=\u001b[39mjson_default,\n\u001b[1;32m    110\u001b[0m             ensure_ascii\u001b[38;5;241m=\u001b[39m\u001b[38;5;28;01mFalse\u001b[39;00m,\n\u001b[1;32m    111\u001b[0m             allow_nan\u001b[38;5;241m=\u001b[39m\u001b[38;5;28;01mFalse\u001b[39;00m,\n\u001b[1;32m    112\u001b[0m         )\u001b[38;5;241m.\u001b[39mencode(\u001b[38;5;124m\"\u001b[39m\u001b[38;5;124mutf8\u001b[39m\u001b[38;5;124m\"\u001b[39m, errors\u001b[38;5;241m=\u001b[39m\u001b[38;5;124m\"\u001b[39m\u001b[38;5;124msurrogateescape\u001b[39m\u001b[38;5;124m\"\u001b[39m)\n",
      "File \u001b[0;32m/Applications/Xcode.app/Contents/Developer/Library/Frameworks/Python3.framework/Versions/3.8/lib/python3.8/json/__init__.py:234\u001b[0m, in \u001b[0;36mdumps\u001b[0;34m(obj, skipkeys, ensure_ascii, check_circular, allow_nan, cls, indent, separators, default, sort_keys, **kw)\u001b[0m\n\u001b[1;32m    232\u001b[0m \u001b[38;5;28;01mif\u001b[39;00m \u001b[38;5;28mcls\u001b[39m \u001b[38;5;129;01mis\u001b[39;00m \u001b[38;5;28;01mNone\u001b[39;00m:\n\u001b[1;32m    233\u001b[0m     \u001b[38;5;28mcls\u001b[39m \u001b[38;5;241m=\u001b[39m JSONEncoder\n\u001b[0;32m--> 234\u001b[0m \u001b[38;5;28;01mreturn\u001b[39;00m \u001b[38;5;28;43mcls\u001b[39;49m\u001b[43m(\u001b[49m\n\u001b[1;32m    235\u001b[0m \u001b[43m    \u001b[49m\u001b[43mskipkeys\u001b[49m\u001b[38;5;241;43m=\u001b[39;49m\u001b[43mskipkeys\u001b[49m\u001b[43m,\u001b[49m\u001b[43m \u001b[49m\u001b[43mensure_ascii\u001b[49m\u001b[38;5;241;43m=\u001b[39;49m\u001b[43mensure_ascii\u001b[49m\u001b[43m,\u001b[49m\n\u001b[1;32m    236\u001b[0m \u001b[43m    \u001b[49m\u001b[43mcheck_circular\u001b[49m\u001b[38;5;241;43m=\u001b[39;49m\u001b[43mcheck_circular\u001b[49m\u001b[43m,\u001b[49m\u001b[43m \u001b[49m\u001b[43mallow_nan\u001b[49m\u001b[38;5;241;43m=\u001b[39;49m\u001b[43mallow_nan\u001b[49m\u001b[43m,\u001b[49m\u001b[43m \u001b[49m\u001b[43mindent\u001b[49m\u001b[38;5;241;43m=\u001b[39;49m\u001b[43mindent\u001b[49m\u001b[43m,\u001b[49m\n\u001b[1;32m    237\u001b[0m \u001b[43m    \u001b[49m\u001b[43mseparators\u001b[49m\u001b[38;5;241;43m=\u001b[39;49m\u001b[43mseparators\u001b[49m\u001b[43m,\u001b[49m\u001b[43m \u001b[49m\u001b[43mdefault\u001b[49m\u001b[38;5;241;43m=\u001b[39;49m\u001b[43mdefault\u001b[49m\u001b[43m,\u001b[49m\u001b[43m \u001b[49m\u001b[43msort_keys\u001b[49m\u001b[38;5;241;43m=\u001b[39;49m\u001b[43msort_keys\u001b[49m\u001b[43m,\u001b[49m\n\u001b[1;32m    238\u001b[0m \u001b[43m    \u001b[49m\u001b[38;5;241;43m*\u001b[39;49m\u001b[38;5;241;43m*\u001b[39;49m\u001b[43mkw\u001b[49m\u001b[43m)\u001b[49m\u001b[38;5;241;43m.\u001b[39;49m\u001b[43mencode\u001b[49m\u001b[43m(\u001b[49m\u001b[43mobj\u001b[49m\u001b[43m)\u001b[49m\n",
      "File \u001b[0;32m/Applications/Xcode.app/Contents/Developer/Library/Frameworks/Python3.framework/Versions/3.8/lib/python3.8/json/encoder.py:199\u001b[0m, in \u001b[0;36mJSONEncoder.encode\u001b[0;34m(self, o)\u001b[0m\n\u001b[1;32m    195\u001b[0m         \u001b[38;5;28;01mreturn\u001b[39;00m encode_basestring(o)\n\u001b[1;32m    196\u001b[0m \u001b[38;5;66;03m# This doesn't pass the iterator directly to ''.join() because the\u001b[39;00m\n\u001b[1;32m    197\u001b[0m \u001b[38;5;66;03m# exceptions aren't as detailed.  The list call should be roughly\u001b[39;00m\n\u001b[1;32m    198\u001b[0m \u001b[38;5;66;03m# equivalent to the PySequence_Fast that ''.join() would do.\u001b[39;00m\n\u001b[0;32m--> 199\u001b[0m chunks \u001b[38;5;241m=\u001b[39m \u001b[38;5;28;43mself\u001b[39;49m\u001b[38;5;241;43m.\u001b[39;49m\u001b[43miterencode\u001b[49m\u001b[43m(\u001b[49m\u001b[43mo\u001b[49m\u001b[43m,\u001b[49m\u001b[43m \u001b[49m\u001b[43m_one_shot\u001b[49m\u001b[38;5;241;43m=\u001b[39;49m\u001b[38;5;28;43;01mTrue\u001b[39;49;00m\u001b[43m)\u001b[49m\n\u001b[1;32m    200\u001b[0m \u001b[38;5;28;01mif\u001b[39;00m \u001b[38;5;129;01mnot\u001b[39;00m \u001b[38;5;28misinstance\u001b[39m(chunks, (\u001b[38;5;28mlist\u001b[39m, \u001b[38;5;28mtuple\u001b[39m)):\n\u001b[1;32m    201\u001b[0m     chunks \u001b[38;5;241m=\u001b[39m \u001b[38;5;28mlist\u001b[39m(chunks)\n",
      "\u001b[0;31mKeyboardInterrupt\u001b[0m: "
     ]
    }
   ],
   "source": [
    "b2.run(10000)"
   ]
  },
  {
   "cell_type": "markdown",
   "id": "7f029be9",
   "metadata": {},
   "source": [
    "Knowing that the velocity of a particle is defined as the distance travelled at a time interval $v_x = \\frac{\\Delta x}{\\Delta t}$, the distance a molecule travels by is $\\Delta x = {v_x} \\Delta t$\n",
    "\n",
    "This means that all the particles with the given velocity ${v_x}$ and a position within a distance $\\Delta x = {v_x} \\Delta t$ from the boxes wall will collide with it (given that the particles are moving towards that wall) \n",
    "\n",
    "As the box is sat to have a wall area = <em>A . All the particles in the volume $|{v_x}\\cdot \\Delta t|\\cdot A$ will collide with the wall (given that they are moving toward it) "
   ]
  },
  {
   "cell_type": "markdown",
   "id": "c09bd1b6",
   "metadata": {},
   "source": [
    "Assuming the box contain n mol of molecules. The density of the molecules in the whole box is the number of molecules divided by the boxes volume\n",
    "\n",
    "$particle~density = \\frac{n\\cdot N_A}{V}$\n",
    "\n",
    "Where $N_A$ = Avogadro’s constant\n",
    "\n",
    "This formula for particle density can be used to calculate the amount of particles at any volume fraction of the box. \n",
    "\n",
    "For the volume $|{v_x}\\cdot \\Delta t|\\cdot A$: \n",
    "\n",
    "The number of particles = $ \\frac{n\\cdot N_A}{V} \\cdot |{v_x}\\cdot \\Delta t|\\cdot A$ \n",
    "\n",
    "At any instant half of the particles will move towards the wall and the other half away from it, meaning that the average number of collision with the wall during the time interval $\\Delta t$ is halv the number of the particles,\n",
    "\n",
    "Mean number of collisions = $\\frac{1}{2} \\cdot \\frac{n\\cdot N_A}{V} \\cdot |{v_x}\\cdot \\Delta t|\\cdot A $"
   ]
  },
  {
   "cell_type": "markdown",
   "id": "5c4b61ac",
   "metadata": {},
   "source": [
    "**_Now:_** that we know the amount of patricles colliding **&** the change in momentum for one particle; Let us calculate the momentum change for the whole amount of particles: \n",
    "\n",
    "$\\Delta momentum = mean~number~of~collisions \\cdot 2m v_x$\n",
    "\n",
    "$\\Delta momentum =\\frac{1}{2} \\cdot \\frac{n\\cdot N_A}{V} \\cdot |{v_x}\\cdot \\Delta t|\\cdot A \\cdot 2m v_x $\n",
    "\n",
    "Given that $M = m \\cdot N_A$ we can rewrite the expression over to become: \n",
    "\n",
    "$\\Delta momentum = \\frac{n~M~A~v_x^2\\Delta t}{V}$"
   ]
  },
  {
   "cell_type": "markdown",
   "id": "06670f9b",
   "metadata": {},
   "source": [
    "# Step 3: Calculate the pressure _P_ from the change in momentum"
   ]
  },
  {
   "cell_type": "markdown",
   "id": "30c27cc2",
   "metadata": {},
   "source": [
    "**Pressure** is equal to the force divided by the area. According to Newtons second law of motion, this rate of change in momentum is equal to the **force**. \n",
    "\n",
    "Therefore: "
   ]
  },
  {
   "cell_type": "markdown",
   "id": "2ef5ebe4",
   "metadata": {},
   "source": [
    "The rate of change in moemntum $\\frac{\\Delta momentum}{\\Delta t} = \\frac{n~M~A~v_x^2}{V}$\n",
    "\n",
    "Pressure = $\\frac{ \\frac{n~M~A~v_x^2}{V}}{A}$\n",
    "\n",
    "Pressure = $\\frac{n~M~v_x^2}{V}$"
   ]
  },
  {
   "cell_type": "markdown",
   "id": "0934f4b7",
   "metadata": {},
   "source": [
    "$PV = {n~M~v_x^2}$"
   ]
  },
  {
   "cell_type": "markdown",
   "id": "a7b66863",
   "metadata": {},
   "source": [
    "# Step 4: Add more dimensions"
   ]
  },
  {
   "cell_type": "markdown",
   "id": "96a1cfce",
   "metadata": {},
   "source": [
    "The average values of $v_x^2 , v_y^2, v_z^2 $ are all the same\n",
    "\n",
    "Given that $ v^2 = v_x^2 + v_y^2 + v_z^2 $\n",
    "\n",
    "It follows that $v_x^2 = \\frac{1}{3}\\cdot v^2$\n"
   ]
  },
  {
   "cell_type": "markdown",
   "id": "731ae3cf",
   "metadata": {},
   "source": [
    "Sitting $v_x^2 = \\frac{1}{3}\\cdot v^2$ in the pressure expression:\n",
    "\n",
    "$PV = \\frac{1}{3} n~M~v^2$\n",
    "\n",
    "$PV = \\frac{1}{3} n~M~v^2$"
   ]
  },
  {
   "cell_type": "markdown",
   "id": "3a21cb10",
   "metadata": {},
   "source": [
    "# Step 5: Insert temperature _T_ in our expression"
   ]
  },
  {
   "cell_type": "markdown",
   "id": "0a399814",
   "metadata": {},
   "source": [
    "Using the ideal gass equation $PV = nRT$\n",
    "\n",
    "$nRT =  \\frac{1}{3} n~M~v^2 $\n",
    "\n",
    "$RT =  \\frac{1}{3} M~v^2$"
   ]
  },
  {
   "cell_type": "markdown",
   "id": "6408d114",
   "metadata": {},
   "source": [
    "Setting back M to its value $M = m \\cdot N_A$\n",
    "\n",
    "$RT =  \\frac{1}{3} m \\cdot N_A~v^2$"
   ]
  },
  {
   "cell_type": "markdown",
   "id": "a98b81f1",
   "metadata": {},
   "source": [
    "From here, we can rearrange the equation to get the expression of the kinetic energy in the right side, by multiplying both sides with $\\frac{3}{2 N_A}$"
   ]
  },
  {
   "cell_type": "markdown",
   "id": "819501a6",
   "metadata": {},
   "source": [
    "$\\frac{3}{2} RT = \\frac{1}{2} m \\cdot N_A v^2$"
   ]
  },
  {
   "cell_type": "markdown",
   "id": "14975216",
   "metadata": {},
   "source": [
    "$\\frac{3}{2} \\frac{RT}{N_A} = \\frac{1}{2} m v^2$"
   ]
  },
  {
   "cell_type": "markdown",
   "id": "33bada8c",
   "metadata": {},
   "source": [
    "Given that Boltzmann's constant $k_B = \\frac{R}{N_A}$ "
   ]
  },
  {
   "cell_type": "markdown",
   "id": "0dc67586",
   "metadata": {},
   "source": [
    "$\\frac{3}{2} k_B T = \\frac{1}{2} m v^2$"
   ]
  },
  {
   "cell_type": "markdown",
   "id": "043618fd",
   "metadata": {},
   "source": [
    "resulting to: \n",
    "\n",
    "$\\color{red}{\\text{$E_k = \\frac{3}{2} k_B T$}}$"
   ]
  },
  {
   "cell_type": "markdown",
   "id": "866e1e29",
   "metadata": {},
   "source": [
    "---"
   ]
  }
 ],
 "metadata": {
  "kernelspec": {
   "display_name": "Python 3 (ipykernel)",
   "language": "python",
   "name": "python3"
  },
  "language_info": {
   "codemirror_mode": {
    "name": "ipython",
    "version": 3
   },
   "file_extension": ".py",
   "mimetype": "text/x-python",
   "name": "python",
   "nbconvert_exporter": "python",
   "pygments_lexer": "ipython3",
   "version": "3.8.9"
  },
  "widgets": {
   "application/vnd.jupyter.widget-state+json": {
    "state": {
     "1bf8e8e5cddf4530aa89c85b107938b8": {
      "model_module": "evince",
      "model_module_version": "^0.23.0",
      "model_name": "MDModel",
      "state": {
       "_model_module_version": "^0.23.0",
       "_view_module_version": "^0.23.0",
       "box": [
        15,
        5,
        5
       ],
       "colors": [
        [
         0.7241047723987147,
         0.3396465164737522,
         0.6365257355187347
        ],
        [
         0.7241047723987147,
         0.3396465164737522,
         0.6365257355187347
        ],
        [
         0.7241047723987147,
         0.3396465164737522,
         0.6365257355187347
        ],
        [
         0.7241047723987147,
         0.3396465164737522,
         0.6365257355187347
        ],
        [
         0.7241047723987147,
         0.3396465164737522,
         0.6365257355187347
        ],
        [
         0.7241047723987147,
         0.3396465164737522,
         0.6365257355187347
        ],
        [
         0.7241047723987147,
         0.3396465164737522,
         0.6365257355187347
        ],
        [
         0.7241047723987147,
         0.3396465164737522,
         0.6365257355187347
        ],
        [
         0.7241047723987147,
         0.3396465164737522,
         0.6365257355187347
        ],
        [
         0.7241047723987147,
         0.3396465164737522,
         0.6365257355187347
        ],
        [
         0.7241047723987147,
         0.3396465164737522,
         0.6365257355187347
        ],
        [
         0.7241047723987147,
         0.3396465164737522,
         0.6365257355187347
        ],
        [
         0.7241047723987147,
         0.3396465164737522,
         0.6365257355187347
        ],
        [
         0.7241047723987147,
         0.3396465164737522,
         0.6365257355187347
        ],
        [
         0.7241047723987147,
         0.3396465164737522,
         0.6365257355187347
        ],
        [
         0.7241047723987147,
         0.3396465164737522,
         0.6365257355187347
        ],
        [
         0.7241047723987147,
         0.3396465164737522,
         0.6365257355187347
        ],
        [
         0.7241047723987147,
         0.3396465164737522,
         0.6365257355187347
        ],
        [
         0.7241047723987147,
         0.3396465164737522,
         0.6365257355187347
        ],
        [
         0.7241047723987147,
         0.3396465164737522,
         0.6365257355187347
        ],
        [
         0.7241047723987147,
         0.3396465164737522,
         0.6365257355187347
        ],
        [
         0.7241047723987147,
         0.3396465164737522,
         0.6365257355187347
        ],
        [
         0.7241047723987147,
         0.3396465164737522,
         0.6365257355187347
        ],
        [
         0.7241047723987147,
         0.3396465164737522,
         0.6365257355187347
        ],
        [
         0.7241047723987147,
         0.3396465164737522,
         0.6365257355187347
        ],
        [
         0.7241047723987147,
         0.3396465164737522,
         0.6365257355187347
        ],
        [
         0.7241047723987147,
         0.3396465164737522,
         0.6365257355187347
        ],
        [
         0.7241047723987147,
         0.3396465164737522,
         0.6365257355187347
        ],
        [
         0.7241047723987147,
         0.3396465164737522,
         0.6365257355187347
        ],
        [
         0.7241047723987147,
         0.3396465164737522,
         0.6365257355187347
        ],
        [
         0.7241047723987147,
         0.3396465164737522,
         0.6365257355187347
        ],
        [
         0.7241047723987147,
         0.3396465164737522,
         0.6365257355187347
        ],
        [
         0.7241047723987147,
         0.3396465164737522,
         0.6365257355187347
        ],
        [
         0.7241047723987147,
         0.3396465164737522,
         0.6365257355187347
        ],
        [
         0.7241047723987147,
         0.3396465164737522,
         0.6365257355187347
        ],
        [
         0.7241047723987147,
         0.3396465164737522,
         0.6365257355187347
        ],
        [
         0.7241047723987147,
         0.3396465164737522,
         0.6365257355187347
        ],
        [
         0.7241047723987147,
         0.3396465164737522,
         0.6365257355187347
        ],
        [
         0.7241047723987147,
         0.3396465164737522,
         0.6365257355187347
        ],
        [
         0.7241047723987147,
         0.3396465164737522,
         0.6365257355187347
        ],
        [
         0.7241047723987147,
         0.3396465164737522,
         0.6365257355187347
        ],
        [
         0.7241047723987147,
         0.3396465164737522,
         0.6365257355187347
        ],
        [
         0.7241047723987147,
         0.3396465164737522,
         0.6365257355187347
        ],
        [
         0.7241047723987147,
         0.3396465164737522,
         0.6365257355187347
        ],
        [
         0.7241047723987147,
         0.3396465164737522,
         0.6365257355187347
        ],
        [
         0.7241047723987147,
         0.3396465164737522,
         0.6365257355187347
        ],
        [
         0.7241047723987147,
         0.3396465164737522,
         0.6365257355187347
        ],
        [
         0.7241047723987147,
         0.3396465164737522,
         0.6365257355187347
        ],
        [
         0.7241047723987147,
         0.3396465164737522,
         0.6365257355187347
        ],
        [
         0.7241047723987147,
         0.3396465164737522,
         0.6365257355187347
        ],
        [
         0.7241047723987147,
         0.3396465164737522,
         0.6365257355187347
        ],
        [
         0.7241047723987147,
         0.3396465164737522,
         0.6365257355187347
        ],
        [
         0.7241047723987147,
         0.3396465164737522,
         0.6365257355187347
        ],
        [
         0.7241047723987147,
         0.3396465164737522,
         0.6365257355187347
        ],
        [
         0.7241047723987147,
         0.3396465164737522,
         0.6365257355187347
        ],
        [
         0.7241047723987147,
         0.3396465164737522,
         0.6365257355187347
        ],
        [
         0.7241047723987147,
         0.3396465164737522,
         0.6365257355187347
        ],
        [
         0.7241047723987147,
         0.3396465164737522,
         0.6365257355187347
        ],
        [
         0.7241047723987147,
         0.3396465164737522,
         0.6365257355187347
        ],
        [
         0.7241047723987147,
         0.3396465164737522,
         0.6365257355187347
        ],
        [
         0.7241047723987147,
         0.3396465164737522,
         0.6365257355187347
        ],
        [
         0.7241047723987147,
         0.3396465164737522,
         0.6365257355187347
        ],
        [
         0.7241047723987147,
         0.3396465164737522,
         0.6365257355187347
        ],
        [
         0.7241047723987147,
         0.3396465164737522,
         0.6365257355187347
        ],
        [
         0.7241047723987147,
         0.3396465164737522,
         0.6365257355187347
        ],
        [
         0.7241047723987147,
         0.3396465164737522,
         0.6365257355187347
        ],
        [
         0.7241047723987147,
         0.3396465164737522,
         0.6365257355187347
        ],
        [
         0.7241047723987147,
         0.3396465164737522,
         0.6365257355187347
        ],
        [
         0.7241047723987147,
         0.3396465164737522,
         0.6365257355187347
        ],
        [
         0.7241047723987147,
         0.3396465164737522,
         0.6365257355187347
        ],
        [
         0.7241047723987147,
         0.3396465164737522,
         0.6365257355187347
        ],
        [
         0.7241047723987147,
         0.3396465164737522,
         0.6365257355187347
        ],
        [
         0.7241047723987147,
         0.3396465164737522,
         0.6365257355187347
        ],
        [
         0.7241047723987147,
         0.3396465164737522,
         0.6365257355187347
        ],
        [
         0.7241047723987147,
         0.3396465164737522,
         0.6365257355187347
        ],
        [
         0.7241047723987147,
         0.3396465164737522,
         0.6365257355187347
        ],
        [
         0.7241047723987147,
         0.3396465164737522,
         0.6365257355187347
        ],
        [
         0.7241047723987147,
         0.3396465164737522,
         0.6365257355187347
        ],
        [
         0.7241047723987147,
         0.3396465164737522,
         0.6365257355187347
        ],
        [
         0.7241047723987147,
         0.3396465164737522,
         0.6365257355187347
        ],
        [
         0.7241047723987147,
         0.3396465164737522,
         0.6365257355187347
        ],
        [
         0.7241047723987147,
         0.3396465164737522,
         0.6365257355187347
        ],
        [
         0.7241047723987147,
         0.3396465164737522,
         0.6365257355187347
        ],
        [
         0.7241047723987147,
         0.3396465164737522,
         0.6365257355187347
        ],
        [
         0.7241047723987147,
         0.3396465164737522,
         0.6365257355187347
        ],
        [
         0.7241047723987147,
         0.3396465164737522,
         0.6365257355187347
        ],
        [
         0.7241047723987147,
         0.3396465164737522,
         0.6365257355187347
        ],
        [
         0.7241047723987147,
         0.3396465164737522,
         0.6365257355187347
        ],
        [
         0.7241047723987147,
         0.3396465164737522,
         0.6365257355187347
        ],
        [
         0.7241047723987147,
         0.3396465164737522,
         0.6365257355187347
        ],
        [
         0.7241047723987147,
         0.3396465164737522,
         0.6365257355187347
        ],
        [
         0.7241047723987147,
         0.3396465164737522,
         0.6365257355187347
        ],
        [
         0.7241047723987147,
         0.3396465164737522,
         0.6365257355187347
        ],
        [
         0.7241047723987147,
         0.3396465164737522,
         0.6365257355187347
        ],
        [
         0.7241047723987147,
         0.3396465164737522,
         0.6365257355187347
        ],
        [
         0.7241047723987147,
         0.3396465164737522,
         0.6365257355187347
        ],
        [
         0.7241047723987147,
         0.3396465164737522,
         0.6365257355187347
        ],
        [
         0.7241047723987147,
         0.3396465164737522,
         0.6365257355187347
        ],
        [
         0.7241047723987147,
         0.3396465164737522,
         0.6365257355187347
        ],
        [
         0.7241047723987147,
         0.3396465164737522,
         0.6365257355187347
        ],
        [
         0.7241047723987147,
         0.3396465164737522,
         0.6365257355187347
        ],
        [
         0.7241047723987147,
         0.3396465164737522,
         0.6365257355187347
        ],
        [
         0.7241047723987147,
         0.3396465164737522,
         0.6365257355187347
        ],
        [
         0.7241047723987147,
         0.3396465164737522,
         0.6365257355187347
        ],
        [
         0.7241047723987147,
         0.3396465164737522,
         0.6365257355187347
        ],
        [
         0.7241047723987147,
         0.3396465164737522,
         0.6365257355187347
        ],
        [
         0.7241047723987147,
         0.3396465164737522,
         0.6365257355187347
        ],
        [
         0.7241047723987147,
         0.3396465164737522,
         0.6365257355187347
        ],
        [
         0.7241047723987147,
         0.3396465164737522,
         0.6365257355187347
        ],
        [
         0.7241047723987147,
         0.3396465164737522,
         0.6365257355187347
        ],
        [
         0.7241047723987147,
         0.3396465164737522,
         0.6365257355187347
        ],
        [
         0.7241047723987147,
         0.3396465164737522,
         0.6365257355187347
        ],
        [
         0.7241047723987147,
         0.3396465164737522,
         0.6365257355187347
        ],
        [
         0.7241047723987147,
         0.3396465164737522,
         0.6365257355187347
        ],
        [
         0.7241047723987147,
         0.3396465164737522,
         0.6365257355187347
        ],
        [
         0.7241047723987147,
         0.3396465164737522,
         0.6365257355187347
        ],
        [
         0.7241047723987147,
         0.3396465164737522,
         0.6365257355187347
        ],
        [
         0.7241047723987147,
         0.3396465164737522,
         0.6365257355187347
        ],
        [
         0.7241047723987147,
         0.3396465164737522,
         0.6365257355187347
        ],
        [
         0.7241047723987147,
         0.3396465164737522,
         0.6365257355187347
        ],
        [
         0.7241047723987147,
         0.3396465164737522,
         0.6365257355187347
        ],
        [
         0.7241047723987147,
         0.3396465164737522,
         0.6365257355187347
        ],
        [
         0.7241047723987147,
         0.3396465164737522,
         0.6365257355187347
        ],
        [
         0.7241047723987147,
         0.3396465164737522,
         0.6365257355187347
        ],
        [
         0.7241047723987147,
         0.3396465164737522,
         0.6365257355187347
        ],
        [
         0.7241047723987147,
         0.3396465164737522,
         0.6365257355187347
        ],
        [
         0.7241047723987147,
         0.3396465164737522,
         0.6365257355187347
        ],
        [
         0.7241047723987147,
         0.3396465164737522,
         0.6365257355187347
        ],
        [
         0.7241047723987147,
         0.3396465164737522,
         0.6365257355187347
        ],
        [
         0.7241047723987147,
         0.3396465164737522,
         0.6365257355187347
        ],
        [
         0.7241047723987147,
         0.3396465164737522,
         0.6365257355187347
        ],
        [
         0.7241047723987147,
         0.3396465164737522,
         0.6365257355187347
        ],
        [
         0.7241047723987147,
         0.3396465164737522,
         0.6365257355187347
        ],
        [
         0.7241047723987147,
         0.3396465164737522,
         0.6365257355187347
        ],
        [
         0.7241047723987147,
         0.3396465164737522,
         0.6365257355187347
        ],
        [
         0.7241047723987147,
         0.3396465164737522,
         0.6365257355187347
        ],
        [
         0.7241047723987147,
         0.3396465164737522,
         0.6365257355187347
        ],
        [
         0.7241047723987147,
         0.3396465164737522,
         0.6365257355187347
        ],
        [
         0.7241047723987147,
         0.3396465164737522,
         0.6365257355187347
        ],
        [
         0.7241047723987147,
         0.3396465164737522,
         0.6365257355187347
        ],
        [
         0.7241047723987147,
         0.3396465164737522,
         0.6365257355187347
        ],
        [
         0.7241047723987147,
         0.3396465164737522,
         0.6365257355187347
        ],
        [
         0.7241047723987147,
         0.3396465164737522,
         0.6365257355187347
        ],
        [
         0.7241047723987147,
         0.3396465164737522,
         0.6365257355187347
        ],
        [
         0.7241047723987147,
         0.3396465164737522,
         0.6365257355187347
        ],
        [
         0.7241047723987147,
         0.3396465164737522,
         0.6365257355187347
        ],
        [
         0.7241047723987147,
         0.3396465164737522,
         0.6365257355187347
        ],
        [
         0.7241047723987147,
         0.3396465164737522,
         0.6365257355187347
        ],
        [
         0.7241047723987147,
         0.3396465164737522,
         0.6365257355187347
        ],
        [
         0.7241047723987147,
         0.3396465164737522,
         0.6365257355187347
        ],
        [
         0.7241047723987147,
         0.3396465164737522,
         0.6365257355187347
        ],
        [
         0.7241047723987147,
         0.3396465164737522,
         0.6365257355187347
        ],
        [
         0.7241047723987147,
         0.3396465164737522,
         0.6365257355187347
        ],
        [
         0.7241047723987147,
         0.3396465164737522,
         0.6365257355187347
        ],
        [
         0.7241047723987147,
         0.3396465164737522,
         0.6365257355187347
        ],
        [
         0.7241047723987147,
         0.3396465164737522,
         0.6365257355187347
        ],
        [
         0.7241047723987147,
         0.3396465164737522,
         0.6365257355187347
        ],
        [
         0.7241047723987147,
         0.3396465164737522,
         0.6365257355187347
        ],
        [
         0.7241047723987147,
         0.3396465164737522,
         0.6365257355187347
        ],
        [
         0.7241047723987147,
         0.3396465164737522,
         0.6365257355187347
        ],
        [
         0.7241047723987147,
         0.3396465164737522,
         0.6365257355187347
        ],
        [
         0.7241047723987147,
         0.3396465164737522,
         0.6365257355187347
        ],
        [
         0.7241047723987147,
         0.3396465164737522,
         0.6365257355187347
        ],
        [
         0.7241047723987147,
         0.3396465164737522,
         0.6365257355187347
        ],
        [
         0.7241047723987147,
         0.3396465164737522,
         0.6365257355187347
        ],
        [
         0.7241047723987147,
         0.3396465164737522,
         0.6365257355187347
        ],
        [
         0.7241047723987147,
         0.3396465164737522,
         0.6365257355187347
        ],
        [
         0.7241047723987147,
         0.3396465164737522,
         0.6365257355187347
        ],
        [
         0.7241047723987147,
         0.3396465164737522,
         0.6365257355187347
        ],
        [
         0.7241047723987147,
         0.3396465164737522,
         0.6365257355187347
        ],
        [
         0.7241047723987147,
         0.3396465164737522,
         0.6365257355187347
        ],
        [
         0.7241047723987147,
         0.3396465164737522,
         0.6365257355187347
        ],
        [
         0.7241047723987147,
         0.3396465164737522,
         0.6365257355187347
        ],
        [
         0.7241047723987147,
         0.3396465164737522,
         0.6365257355187347
        ],
        [
         0.7241047723987147,
         0.3396465164737522,
         0.6365257355187347
        ],
        [
         0.7241047723987147,
         0.3396465164737522,
         0.6365257355187347
        ],
        [
         0.7241047723987147,
         0.3396465164737522,
         0.6365257355187347
        ],
        [
         0.7241047723987147,
         0.3396465164737522,
         0.6365257355187347
        ],
        [
         0.7241047723987147,
         0.3396465164737522,
         0.6365257355187347
        ],
        [
         0.7241047723987147,
         0.3396465164737522,
         0.6365257355187347
        ],
        [
         0.7241047723987147,
         0.3396465164737522,
         0.6365257355187347
        ],
        [
         0.7241047723987147,
         0.3396465164737522,
         0.6365257355187347
        ],
        [
         0.7241047723987147,
         0.3396465164737522,
         0.6365257355187347
        ],
        [
         0.7241047723987147,
         0.3396465164737522,
         0.6365257355187347
        ],
        [
         0.7241047723987147,
         0.3396465164737522,
         0.6365257355187347
        ],
        [
         0.7241047723987147,
         0.3396465164737522,
         0.6365257355187347
        ],
        [
         0.7241047723987147,
         0.3396465164737522,
         0.6365257355187347
        ],
        [
         0.7241047723987147,
         0.3396465164737522,
         0.6365257355187347
        ],
        [
         0.7241047723987147,
         0.3396465164737522,
         0.6365257355187347
        ],
        [
         0.7241047723987147,
         0.3396465164737522,
         0.6365257355187347
        ],
        [
         0.7241047723987147,
         0.3396465164737522,
         0.6365257355187347
        ],
        [
         0.7241047723987147,
         0.3396465164737522,
         0.6365257355187347
        ],
        [
         0.7241047723987147,
         0.3396465164737522,
         0.6365257355187347
        ],
        [
         0.7241047723987147,
         0.3396465164737522,
         0.6365257355187347
        ],
        [
         0.7241047723987147,
         0.3396465164737522,
         0.6365257355187347
        ],
        [
         0.7241047723987147,
         0.3396465164737522,
         0.6365257355187347
        ],
        [
         0.7241047723987147,
         0.3396465164737522,
         0.6365257355187347
        ],
        [
         0.7241047723987147,
         0.3396465164737522,
         0.6365257355187347
        ],
        [
         0.7241047723987147,
         0.3396465164737522,
         0.6365257355187347
        ],
        [
         0.7241047723987147,
         0.3396465164737522,
         0.6365257355187347
        ]
       ],
       "init": true,
       "layout": "IPY_MODEL_e085495cccb34b358f836d421b019768",
       "masses": [
        1,
        1,
        1,
        1,
        1,
        1,
        1,
        1,
        1,
        1,
        1,
        1,
        1,
        1,
        1,
        1,
        1,
        1,
        1,
        1,
        1,
        1,
        1,
        1,
        1,
        1,
        1,
        1,
        1,
        1,
        1,
        1,
        1,
        1,
        1,
        1,
        1,
        1,
        1,
        1,
        1,
        1,
        1,
        1,
        1,
        1,
        1,
        1,
        1,
        1,
        1,
        1,
        1,
        1,
        1,
        1,
        1,
        1,
        1,
        1,
        1,
        1,
        1,
        1,
        1,
        1,
        1,
        1,
        1,
        1,
        1,
        1,
        1,
        1,
        1,
        1,
        1,
        1,
        1,
        1,
        1,
        1,
        1,
        1,
        1,
        1,
        1,
        1,
        1,
        1,
        1,
        1,
        1,
        1,
        1,
        1,
        1,
        1,
        1,
        1,
        1,
        1,
        1,
        1,
        1,
        1,
        1,
        1,
        1,
        1,
        1,
        1,
        1,
        1,
        1,
        1,
        1,
        1,
        1,
        1,
        1,
        1,
        1,
        1,
        1,
        1,
        1,
        1,
        1,
        1,
        1,
        1,
        1,
        1,
        1,
        1,
        1,
        1,
        1,
        1,
        1,
        1,
        1,
        1,
        1,
        1,
        1,
        1,
        1,
        1,
        1,
        1,
        1,
        1,
        1,
        1,
        1,
        1,
        1,
        1,
        1,
        1,
        1,
        1,
        1,
        1,
        1,
        1,
        1,
        1,
        1,
        1,
        1,
        1,
        1,
        1,
        1,
        1,
        1,
        1,
        1,
        1,
        1,
        1,
        1,
        1,
        1,
        1,
        1,
        1,
        1,
        1,
        1,
        1,
        1,
        1,
        1,
        1,
        1,
        1
       ],
       "pos": [
        [
         -7.836634155728003,
         -3.7743439740019893,
         -4.072692527115075
        ],
        [
         2.182962120791485,
         -3.408561504719954,
         -2.135032456637911
        ],
        [
         2.59205882145001,
         -3.462702727282662,
         -1.1797635604089967
        ],
        [
         -7.777636982188375,
         -3.294762529567004,
         0.9296176390379269
        ],
        [
         -2.826505617858199,
         -3.5358329559971913,
         2.5335154017644808
        ],
        [
         -6.758081033237399,
         -3.6945077389014074,
         3.982910205783034
        ],
        [
         3.366356203611236,
         -3.485807058443353,
         -3.5551103970510605
        ],
        [
         3.4040659954625263,
         -3.4345667063817866,
         -2.518362197731173
        ],
        [
         3.710662452261139,
         -3.304587102711028,
         -1.0986510319452216
        ],
        [
         -5.03981687071218,
         -3.7050149534516805,
         0.8885886252591211
        ],
        [
         3.5192641941923313,
         -3.6187932752567185,
         2.731455684613153
        ],
        [
         3.5207627090254263,
         -3.337441017758571,
         3.8512840921827554
        ],
        [
         5.887329151092204,
         -3.4674138604867237,
         -3.7105593284616725
        ],
        [
         4.623499092138873,
         -3.5690814154409605,
         -2.1563203543358354
        ],
        [
         4.948527832852247,
         -3.498600502914336,
         -0.708939985512334
        ],
        [
         5.245526232187566,
         -3.381647679183342,
         0.7135749361593545
        ],
        [
         4.729479750378377,
         -3.4495417328381968,
         2.688788146136471
        ],
        [
         5.043854263812902,
         -3.45771495575775,
         3.685337966940233
        ],
        [
         10.254515054709634,
         -3.4118388266209636,
         -3.662845850078473
        ],
        [
         6.181348641596286,
         -3.543499437762223,
         -2.6241736163497493
        ],
        [
         6.478383644142091,
         -3.3047177023404046,
         -0.45435986423248903
        ],
        [
         6.271343968867879,
         -3.3821643759586504,
         0.5932458020786465
        ],
        [
         5.985318568577903,
         -3.5274022389929067,
         2.598376461883712
        ],
        [
         6.401841600044612,
         -3.4458827172170405,
         3.72751927255097
        ],
        [
         11.500565661346283,
         -3.451658738272836,
         -3.7196529247585315
        ],
        [
         7.338911555034367,
         -3.4758390192304685,
         -2.567525742382646
        ],
        [
         10.744654300926554,
         -3.2545961404628283,
         -0.8828860060880442
        ],
        [
         10.66015620639917,
         -3.311234568907567,
         1.0542247440952197
        ],
        [
         7.204231569522802,
         -3.1695038251674,
         2.632400855952651
        ],
        [
         10.254776888785758,
         -3.2285081451663076,
         3.6586060500661244
        ],
        [
         12.644354112067935,
         -3.6769706989782582,
         -3.694275105596215
        ],
        [
         12.26160976987464,
         -3.240676155548526,
         -2.7109323794987796
        ],
        [
         12.416437601712637,
         -3.6111226534904213,
         -0.9402630863270095
        ],
        [
         11.71091634392865,
         -3.7143112685188315,
         0.8445720878592211
        ],
        [
         12.149260038101891,
         -3.4390632026547676,
         2.7345478104509304
        ],
        [
         12.4613408990543,
         -3.6241427893616427,
         3.7770181463337043
        ],
        [
         -5.910783357393859,
         -2.0470512179056906,
         -3.911947303888418
        ],
        [
         -2.5435480217973963,
         -2.0587486448795596,
         -2.5844050805522127
        ],
        [
         -6.390587810165186,
         -2.1485832062721646,
         -0.5900916040705895
        ],
        [
         -7.735609359423449,
         -2.20697804159694,
         1.0707828342870371
        ],
        [
         -6.9880315037016985,
         -1.9686466381627932,
         2.1590689927773274
        ],
        [
         -1.2598065502120501,
         -1.8809899839889126,
         3.958919346516288
        ],
        [
         -4.87185418399394,
         -1.9136133070014665,
         -3.601539640984786
        ],
        [
         -1.1969747571741187,
         -2.1798453714365627,
         -2.2838959702569364
        ],
        [
         -1.0333896017460633,
         -2.074019305040272,
         -1.2900360988070723
        ],
        [
         -6.714524673143913,
         -2.1251833601161314,
         0.8870170361881549
        ],
        [
         -5.785859137858201,
         -1.8845637207750723,
         2.6193718169158418
        ],
        [
         -0.08145209770541961,
         -2.4483064199674893,
         4.022298244243865
        ],
        [
         0.5568714156979563,
         -1.9609512236344426,
         -3.64739703116026
        ],
        [
         0.03143045360907273,
         -2.212879471522621,
         -2.5279773648674237
        ],
        [
         3.678113454213589,
         -2.323193069127404,
         -0.8000422484966813
        ],
        [
         0.4776831455288257,
         -1.9983865948330224,
         0.7294354979524877
        ],
        [
         5.432967472994399,
         -2.3419057354744046,
         2.6539395784914515
        ],
        [
         3.9116207923122306,
         -2.2138202082948486,
         3.854225077103052
        ],
        [
         9.282141988025097,
         -2.3196535736657222,
         -3.654469024818229
        ],
        [
         9.733913904078502,
         -2.29491649185813,
         -2.7564466699102343
        ],
        [
         6.2283854417304765,
         -2.3473877746456657,
         -0.5764308696587478
        ],
        [
         1.5937845581749912,
         -2.1975236902866335,
         0.8365592386665835
        ],
        [
         6.577055868008765,
         -2.3546707092667747,
         2.527998685821592
        ],
        [
         6.225932232066301,
         -2.3173762489127423,
         3.548471983365431
        ],
        [
         10.507370014868204,
         -2.2519620651473753,
         -3.9410769474453566
        ],
        [
         11.843480926821037,
         -2.340981238323488,
         -2.5771433746696957
        ],
        [
         7.246548843337188,
         -2.200893597298368,
         -0.31090195262708703
        ],
        [
         6.172792663421089,
         -2.224575207713149,
         0.9295768306817732
        ],
        [
         10.209737645462571,
         -2.429721232319677,
         2.7103284900730613
        ],
        [
         10.509849506011394,
         -2.153372888538697,
         3.6766089892543103
        ],
        [
         11.687942320436447,
         -2.2812456873619253,
         -3.6067681782861705
        ],
        [
         12.895414065204111,
         -2.399756119542233,
         -2.439700108195624
        ],
        [
         11.246615455814409,
         -2.324317222457519,
         -1.1455668330075461
        ],
        [
         7.285112036736046,
         -2.419114579557519,
         0.7159043584170448
        ],
        [
         11.754646873232195,
         -2.309026156993093,
         2.702030616142732
        ],
        [
         11.624536578607087,
         -2.1313167774403854,
         3.8614471694585677
        ],
        [
         -2.0126042765657517,
         -0.43587224680394165,
         -3.8961377480954695
        ],
        [
         -7.764301835155688,
         -0.5295130811785076,
         -2.4687723719648362
        ],
        [
         -1.5277400284760148,
         -0.48429273055406563,
         -0.7964336163959103
        ],
        [
         -7.682760212151083,
         -0.9113515558971362,
         0.9712961910196857
        ],
        [
         -6.806650786032459,
         -0.7187580471928217,
         2.8623923902988313
        ],
        [
         -6.86364737697129,
         -0.08303866425506025,
         3.738122337435024
        ],
        [
         -0.8311340738863228,
         -0.5436345749096905,
         -3.746508091462067
        ],
        [
         -4.614909304831672,
         -0.6588243840895222,
         -2.5991516733081816
        ],
        [
         3.018705848000265,
         -0.4578181727680066,
         -0.8342149226427072
        ],
        [
         -5.200713044441125,
         -0.0958114253772606,
         0.9222901796137613
        ],
        [
         -5.745430356623709,
         -0.6766141871440415,
         2.6505912892981396
        ],
        [
         -5.800999688696953,
         -0.15887505936465796,
         3.744729766321262
        ],
        [
         3.8063159035498293,
         -0.5394029965798959,
         -3.715000292884383
        ],
        [
         0.023413249605867055,
         -0.5769854655667322,
         -2.474630426970597
        ],
        [
         4.246357235029552,
         -0.22883225625715334,
         -0.7923109785498593
        ],
        [
         0.04809396448574953,
         -0.4637866708790143,
         0.7757765455808929
        ],
        [
         -0.9934628579769968,
         0.06874884822357116,
         2.7632826897780016
        ],
        [
         -1.0866205418533987,
         -0.4523049174623993,
         3.6926215319952083
        ],
        [
         4.901077175206512,
         -0.43235287139813366,
         -3.5848773092638053
        ],
        [
         4.88560585507491,
         -0.3000555039425484,
         -2.579321692258487
        ],
        [
         5.4393072544667,
         -0.21348820398121196,
         -0.5911875107768126
        ],
        [
         4.826417101762297,
         -0.46640792892499533,
         0.5862890974945997
        ],
        [
         4.430898867852543,
         -0.3844901666177198,
         2.2625082839258366
        ],
        [
         6.233410485611215,
         -0.7749303681881798,
         3.997759643143323
        ],
        [
         6.96930436551236,
         -0.4100841056071716,
         -3.5709847738513942
        ],
        [
         6.9520444398784775,
         -0.1524376202325875,
         -2.580662218269792
        ],
        [
         6.808402784737348,
         -0.4598048954171837,
         -0.9591130563030807
        ],
        [
         5.952150551948273,
         -0.5728678887676015,
         0.6254428508977646
        ],
        [
         7.535570741617171,
         -0.6147417409084481,
         2.754602628153364
        ],
        [
         7.28221038841561,
         -0.771537763625548,
         3.8467363223320294
        ],
        [
         8.026825495681498,
         -0.46676637829333095,
         -3.804068069936629
        ],
        [
         11.563668115190067,
         -0.536416480811156,
         -2.5111074009679593
        ],
        [
         7.913545193609997,
         -0.7119900368998463,
         -0.7196055256406101
        ],
        [
         7.919664726017864,
         -0.4682693581978012,
         0.7494126578080413
        ],
        [
         12.50714758668099,
         -0.5429333887395679,
         2.5991278813576146
        ],
        [
         11.33014651302872,
         -0.6635096036127267,
         3.859148400641911
        ],
        [
         -2.2352821326662036,
         1.0263217413029178,
         -3.877840158788494
        ],
        [
         -6.146759671040118,
         1.351839589013555,
         -2.4389694238411246
        ],
        [
         -5.878714953150858,
         1.354899150462096,
         -0.7175479018282439
        ],
        [
         -5.482488423803526,
         1.3551480964070923,
         0.641544872357686
        ],
        [
         -1.9143707996864308,
         0.9653189508311143,
         2.60706842193821
        ],
        [
         -6.96495478040793,
         0.8775030194678123,
         4.045998696532906
        ],
        [
         3.212885770503515,
         1.2706939431689683,
         -3.5796738131082555
        ],
        [
         3.3236456485490393,
         1.2529160120186547,
         -2.583888540489965
        ],
        [
         -4.831619909862178,
         1.0410174163760613,
         -0.262506443963737
        ],
        [
         -1.5342789823190697,
         1.090493116025786,
         0.9299836298278993
        ],
        [
         -0.691213908569935,
         1.0918434210881571,
         2.621713707827692
        ],
        [
         -5.893940748100731,
         0.8706686710749239,
         3.8786350396737515
        ],
        [
         4.324320671681674,
         1.0435662417420821,
         -3.5227332236188236
        ],
        [
         4.400835193802315,
         1.2415167223571524,
         -2.4057557321496645
        ],
        [
         3.887863399836878,
         0.7489313664975441,
         -1.392529872296684
        ],
        [
         -0.46666056512750126,
         1.3050058795183461,
         1.1518654941481719
        ],
        [
         0.45409666639125096,
         1.1926950685469806,
         2.6793471062572705
        ],
        [
         -1.280180662533284,
         0.9297092121058363,
         3.525661554287956
        ],
        [
         6.233213744529671,
         1.4792377009909021,
         -3.6069487184210773
        ],
        [
         6.0950823851910805,
         1.097890322250257,
         -2.383255051123176
        ],
        [
         4.864708481594561,
         0.9887443039925295,
         -0.6396001944322799
        ],
        [
         4.660553948108654,
         1.0187975664352995,
         0.7090969201983972
        ],
        [
         4.683046730892036,
         1.3079424338017083,
         2.3083396478661777
        ],
        [
         -0.1916897940022782,
         1.1777645152421161,
         3.5658786997597796
        ],
        [
         7.30085796531237,
         1.3202552673666557,
         -3.600503212499789
        ],
        [
         7.104339294537812,
         0.9152621378614134,
         -2.611742206144259
        ],
        [
         5.923190529529644,
         1.4241971362359283,
         -0.7742562338499348
        ],
        [
         6.383038390212943,
         1.2435559907284344,
         0.6575956863893884
        ],
        [
         7.175286152558506,
         1.6032393958889801,
         2.0543891756154826
        ],
        [
         2.6247532082548295,
         1.2810858889274876,
         3.8763562056248544
        ],
        [
         12.089072547231712,
         1.1833308509334104,
         -3.7888169524999378
        ],
        [
         11.359643375575306,
         1.3177895566811606,
         -2.784415352921142
        ],
        [
         7.044436193345873,
         1.057199570407284,
         -0.8064457052305047
        ],
        [
         7.471272905575763,
         1.3614072513304991,
         1.0166397032406234
        ],
        [
         11.217377659179363,
         1.3380486615753109,
         2.6863590383136775
        ],
        [
         12.518160846281788,
         1.1704918433295144,
         3.9842791262976047
        ],
        [
         -6.787171760749399,
         3.1040109093465413,
         -3.964762927794716
        ],
        [
         -5.474811949716003,
         2.569684884478628,
         -2.4069217220486796
        ],
        [
         -7.588623199194837,
         2.829225702532657,
         -0.7639618462815017
        ],
        [
         -5.457344274647495,
         2.8298936062827718,
         0.6230210794636628
        ],
        [
         -6.703344129528137,
         3.0741663247804056,
         2.507639740369509
        ],
        [
         -7.720536885069736,
         2.70005650895854,
         4.070892173975246
        ],
        [
         2.999007568619533,
         2.6710892961509054,
         -3.6386794037910004
        ],
        [
         -0.7040650466383467,
         3.1224217445847553,
         -2.8870233778275187
        ],
        [
         -6.09947189772966,
         2.510410378775143,
         -0.7874071084697166
        ],
        [
         -1.887896903233012,
         2.210142650989326,
         1.2159679899431994
        ],
        [
         -0.685435216372256,
         2.4772012003374058,
         2.3664653272900846
        ],
        [
         -5.616367306197752,
         2.616525807448549,
         3.9256432813319884
        ],
        [
         4.0462241407804465,
         2.934511037058178,
         -3.471353780089755
        ],
        [
         3.774127780862538,
         2.4452348630752367,
         -2.568479470068779
        ],
        [
         0.9921559775693872,
         2.8977832608441187,
         -0.839497132845612
        ],
        [
         -0.03457257858976883,
         2.8342551017055926,
         0.9774965544717975
        ],
        [
         4.131631641213996,
         2.761283574867239,
         2.7134874314627138
        ],
        [
         4.587441332735029,
         2.9202154747010787,
         3.6753574914343146
        ],
        [
         5.696137457806881,
         2.49178013855499,
         -3.832570600524308
        ],
        [
         4.795183656372459,
         2.798457725381496,
         -2.5236806846084314
        ],
        [
         5.749439868007582,
         2.418244150484925,
         -0.6687471684022658
        ],
        [
         5.5922342698965855,
         2.5797575458675293,
         0.7619999447273871
        ],
        [
         6.141406889264583,
         2.749110306682885,
         2.637491031608927
        ],
        [
         6.1442142797871035,
         2.975767897879389,
         3.638203836846578
        ],
        [
         6.949788497265189,
         2.3796495032062293,
         -3.8175412885523627
        ],
        [
         11.035314553844511,
         2.584110965127163,
         -2.574407882184813
        ],
        [
         10.508327067598913,
         2.4939644769409792,
         -0.7503173290642237
        ],
        [
         6.635022909545114,
         2.4073464584187225,
         0.8715267052961223
        ],
        [
         7.192616574112581,
         2.477952122553806,
         2.6408805483701867
        ],
        [
         7.182982029311153,
         2.7568283046165196,
         3.6228584390990815
        ],
        [
         8.212831309811126,
         2.5730048314630665,
         -3.795651389544715
        ],
        [
         12.262492948849477,
         2.6151560331691064,
         -2.261354809348333
        ],
        [
         12.48524056017287,
         2.7319401224196946,
         -1.0934432784783226
        ],
        [
         11.18040655311902,
         2.5843662251535533,
         1.0342045229832537
        ],
        [
         11.065859480195794,
         2.3534757760759337,
         2.783675452359455
        ],
        [
         11.296047082684588,
         2.6234400472137382,
         3.7360905831278286
        ],
        [
         -6.943675603848028,
         4.106340190174826,
         -3.936417327637552
        ],
        [
         -7.747114227972268,
         4.402202443671973,
         -2.6171170458294957
        ],
        [
         7.055922848616797,
         4.224213311063275,
         -0.8349750786652456
        ],
        [
         -7.20924047308555,
         4.29260303144137,
         1.0989245780786765
        ],
        [
         -6.879243918770263,
         4.07885334486041,
         2.2795343339504077
        ],
        [
         2.963316538052553,
         4.36132109124864,
         4.043138672209653
        ],
        [
         -1.9491988941089657,
         4.248394044735271,
         -3.8549521780474008
        ],
        [
         -1.181040701988559,
         4.178999909652448,
         -2.551600337109871
        ],
        [
         8.295761267806707,
         4.157281460474683,
         -0.9287215131394105
        ],
        [
         2.803969775817179,
         4.15571092817825,
         0.8389293844393851
        ],
        [
         7.812908584649194,
         3.965510421124125,
         2.641120798581984
        ],
        [
         7.948220722638547,
         3.992296159033419,
         3.9075484573004755
        ],
        [
         3.86020624314453,
         3.9327931627476382,
         -3.6262343414916605
        ],
        [
         3.9794025038421603,
         3.902802959481603,
         -2.617904575633154
        ],
        [
         9.510612518234794,
         4.1289361108059115,
         -0.4721838109059457
        ],
        [
         9.340313724985895,
         4.099720037015509,
         0.5969241603793964
        ],
        [
         8.853806273357852,
         4.028946078465263,
         2.7272114161419427
        ],
        [
         9.006495330226475,
         4.028994254943024,
         3.8806840375089275
        ],
        [
         10.700559179158907,
         4.109980652904534,
         -3.8417771799380005
        ],
        [
         10.695522004471888,
         4.074890307194667,
         -2.6819863802225483
        ]
       ]
      }
     },
     "2898bdf879d34f0083aa89ce6253f0f1": {
      "model_module": "@jupyter-widgets/base",
      "model_module_version": "1.2.0",
      "model_name": "LayoutModel",
      "state": {}
     },
     "3b3c4bd3e91b4373b0eb89b7523844da": {
      "model_module": "evince",
      "model_module_version": "^0.23.0",
      "model_name": "MDModel",
      "state": {
       "_model_module_version": "^0.23.0",
       "_view_module_version": "^0.23.0",
       "box": [
        5,
        5,
        5
       ],
       "colors": [
        [
         0.7329513194794708,
         0.8681742000967044,
         0.9865229359092321
        ]
       ],
       "init": true,
       "layout": "IPY_MODEL_7e9d20596f654d2bb9d9dc79728c28a6",
       "masses": [
        1
       ],
       "pos": [
        [
         4.510281037539698e-16,
         0,
         0
        ]
       ]
      }
     },
     "40d7dcfb34f64c85b3064128c5930961": {
      "model_module": "@jupyter-widgets/base",
      "model_module_version": "1.2.0",
      "model_name": "LayoutModel",
      "state": {}
     },
     "7e9d20596f654d2bb9d9dc79728c28a6": {
      "model_module": "@jupyter-widgets/base",
      "model_module_version": "1.2.0",
      "model_name": "LayoutModel",
      "state": {}
     },
     "822560f08162443b973be08de0d6565a": {
      "model_module": "evince",
      "model_module_version": "^0.23.0",
      "model_name": "MDModel",
      "state": {
       "_model_module_version": "^0.23.0",
       "_view_module_version": "^0.23.0",
       "box": [
        5,
        5,
        5
       ],
       "colors": [
        [
         0.3857722017592151,
         0.7671762725144778,
         0.0707468304622847
        ]
       ],
       "init": true,
       "layout": "IPY_MODEL_2898bdf879d34f0083aa89ce6253f0f1",
       "masses": [
        1
       ],
       "pos": [
        [
         -1.0685999999998987,
         0,
         0
        ]
       ]
      }
     },
     "b0cedc7ba6844f86b5cc38a504877e86": {
      "model_module": "evince",
      "model_module_version": "^0.23.0",
      "model_name": "MDModel",
      "state": {
       "_model_module_version": "^0.23.0",
       "_view_module_version": "^0.23.0",
       "box": [
        5,
        5,
        5
       ],
       "colors": [
        [
         0.6816418845104265,
         0.20004368499274772,
         0.30703549840243616
        ]
       ],
       "init": true,
       "layout": "IPY_MODEL_40d7dcfb34f64c85b3064128c5930961",
       "masses": [
        1
       ],
       "pos": [
        [
         -4.759999999999943,
         0,
         0
        ]
       ]
      }
     },
     "bf1e549b63b549458ac5853e276916cf": {
      "model_module": "evince",
      "model_module_version": "^0.23.0",
      "model_name": "MDModel",
      "state": {
       "_model_module_version": "^0.23.0",
       "_view_module_version": "^0.23.0",
       "box": [
        5,
        5,
        5
       ],
       "colors": [
        [
         0.1826741496476052,
         0.04988005519846728,
         0.37967117569130926
        ]
       ],
       "init": true,
       "layout": "IPY_MODEL_c97a8c2952b141bfb3d68331658a2ff5",
       "masses": [
        1
       ],
       "pos": [
        [
         0.5919999999999511,
         0,
         0
        ]
       ]
      }
     },
     "c97a8c2952b141bfb3d68331658a2ff5": {
      "model_module": "@jupyter-widgets/base",
      "model_module_version": "1.2.0",
      "model_name": "LayoutModel",
      "state": {}
     },
     "e085495cccb34b358f836d421b019768": {
      "model_module": "@jupyter-widgets/base",
      "model_module_version": "1.2.0",
      "model_name": "LayoutModel",
      "state": {}
     }
    },
    "version_major": 2,
    "version_minor": 0
   }
  }
 },
 "nbformat": 4,
 "nbformat_minor": 5
}
