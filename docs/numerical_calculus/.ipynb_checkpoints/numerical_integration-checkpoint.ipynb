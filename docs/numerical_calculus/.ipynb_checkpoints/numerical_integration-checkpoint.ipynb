{
 "cells": [
  {
   "cell_type": "markdown",
   "id": "0d02b3b7",
   "metadata": {},
   "source": [
    "# Numerical integration\n",
    "\n",
    "There are many applications of integration in chemistry. Integration is used for everything from calculating molecular geometry in quantum chemistry to finding the area of a peak in an NMR spectrum or a chromatogram to find the concentration of analytes. In addition, we need to integrate to solve differential equations, which are really important in physical chemistry and quantum chemistry. You should therefore have a good grasp at what the integral means, what we get by integrating, as well as methods of calculating integrals. Let's prepare you for exactly that!\n",
    "\n",
    "## What is the integral, really?\n",
    "\n",
    "Historically, integration is a way of calculating areas and volumes. Today, we use integrals for a lot of different things, but in many cases, it is useful to think of the integral as a sum of small pieces. The integral sign ∫ is in fact an elongated _S_, which means sum. In ancient Greek, over 1500 years before calculus was invented by Newton and Leibniz, the greek mathematicians calculated areas of geometric figures by partitioning them into smaller areas, often rectangles, and summing up the areas of all the smaller areas. This was an inefficient way of computing areas and volumes, since we need a lot of small areas to get a good approximation. Then came calculus, the study of infinitesimals and continous change.\n",
    "\n",
    "With calculus (about 1700) came rigorous mathematical theorems and integration rules which you have learned to use in high school. This lets us compute integrals quickly (sometimes!) and exact. We call this _analytical integration_. Perhaps the most powerful result in calculus is the _fundamental theorem of calculus_ (sounds important, right?!). This states that integration is the reverse of differentiating (taking the derivative):\n",
    "\n",
    "```{admonition} Fundamental theorem of calculus\n",
    "Let _f_ be a continous function in the interval [a,b], and _F_ be a function defined for _x_ in [a,b]. That is\n",
    "\n",
    "$$F(x) = \\int_a^x f(t) dt$$\n",
    "\n",
    "then we have\n",
    "\n",
    "$$F'(x) = f(x)$$\n",
    "\n",
    "Essentially, this means that the integral of a function is equal to the antiderivative to the function.\n",
    "```\n",
    "\n",
    "Calculus is a very important tool, but there are especially two caveats to using a set of rules to compute integrals:\n",
    "-\tNot all integrals can be solved analytically.\n",
    "-\tWhen using rules, you might forget what you are actually doing, that is, what the integral really means. \n",
    "\n",
    "Do you sometimes feel that you get in a \"plug-and-chug\" mode, where you apply integration rules and do a lot of algebra, get the right result, but do not really understand what is going on? You are not alone. When the ancient greeks used sums of small parts, they used what we now know as the definition of the integral to approximate areas and volumes. They couldn't have forgot what the integral meant in the process, since they kind of worked with the very definition of it. Couldn't we use the same technique today? Yes, of course. But wasn't it quite tedious to do all these calculations? Well, now we have another tool at our disposal: the computer. Summing thousands of areas is now done in a fraction of a second, greatly outperforming the ancient greeks. So let us get into the mindset of an ancient g(r)eek and start integrating!\n",
    "\n",
    "```{admonition} Exercise\n",
    ":class: hint\n",
    "By using the concept of the integral as a sum of very small parts, interpret what the following integral, which describes the total distance (_s_) traveled by a particle following the velocity described by the function $v(t)$ from the start time $t_0$ to the end time $t_n$.\n",
    "\n",
    "$$s = \\int_{t_0}^{t_n} v(t) dt$$\n",
    "\n",
    "```\n",
    "\n",
    "```{admonition} Proposed solution\n",
    ":class: hint, dropdown\n",
    "\n",
    "The integral may be interpreted as follows: the distance traveled by the particle can be calculated by taking its speed $v_t$ at every time $t$ and multiply it by the timestep $dt$. Since we assume that we do this for an infinite amount of velocities, we know that the velocity is constant at every timestep. In principle, what we do is to calculate the distance with the relation $s = v\\cdot t$ for every time value, and then summing them all up. We can think of the integral as a limit of sums:\n",
    "\n",
    "$$s = \\int_{t_0}^{t_f} v(t) dt = \\lim_{n\\rightarrow \\infty} \\sum_{i=0}^{n} v_i \\cdot \\Delta t$$\n",
    "\n",
    "or equivalent:\n",
    "\n",
    "$$s = \\lim_{\\Delta t\\rightarrow 0} \\sum_{i=0}^{n} v_i \\cdot \\Delta t$$\n",
    "\n",
    "```"
   ]
  },
  {
   "cell_type": "markdown",
   "id": "ca97ab7c",
   "metadata": {},
   "source": [
    "## Rectangle methods\n",
    "\n",
    "Let us take a look at how we can approximate an integral as a sum of geometric figures, like the ancient greeks did.  The simplest way of doing this, is by using rectangles:\n",
    "\n",
    "<img src=\"https://github.com/andreasdh/programmering-i-kjemi/blob/master/docs/bilder/rektangel10_utentall.png?raw=true\" width=\"500\"/>\n",
    "\n",
    "Here, we use $N = 10$ rectangles to approximate the integral $f(x) = \\cos{(x)} + 2$ for $x\\in[2,12]$. The width of all rectangles is then $(b-a)/N = (12-2)/10 = 1$. We can also see that the height of each rectangle is $f(x_n)$, with $n\\in[2,11]$, that is, we only let the left side of the rectangle reach the function graph. If we calculate the sum of the areas of every rectangle, we get _A_ = 18.046675645664006. This is a crude approximation to the analytical value ($(\\sin{(12)} + 2\\cdot 12)-(\\sin{(2)} + 2\\cdot 2) \\approx 18.554129655173885$. But if we increase the number of rectangles, for example to 50, we get a better approximation:\n",
    "\n",
    "<img src=\"https://github.com/andreasdh/programmering-i-kjemi/blob/master/docs/bilder_engelsk/rectangle_left_50.png?raw=true\" width=\"500\"/>\n",
    "\n",
    "It is obvious, especially in the first figure, that several areas of the rectangles lie outside the graph. They are both too far above and below the graph in several places. But the error is not as big as it might seem because we just have areas both above and below the graph. The relative error here is approximately 2.7 \\% with 10 rectangles and 0.65 \\% with 50 rectangles.\n",
    "\n",
    "Let us illustrate the error with a linear function $f(x) = 10x$:\n",
    "\n",
    "<img src=\"https://github.com/andreasdh/programmering-i-kjemi/blob/master/docs/bilder_engelsk/rectangle_left_10.png?raw=true\" width=\"500\"/>\n",
    "\n",
    "In these models, we have measured the rectangle height on the left outer edge of the rectangle. In this instance, this gives us an underestimation of the exact area for each rectangle. We can also measure the height of the rectangles on the right edge. We then get a corresponding overestimation with this function:\n",
    "\n",
    "<img src=\"https://github.com/andreasdh/programmering-i-kjemi/blob/master/docs/bilder_engelsk/rectangle_right_10.png?raw=true\" width=\"500\"/>\n",
    "\n",
    "We see here that we get a large underestimation with the left edge approximation and a large overestimation with the right edge approximation, with a relative error of approx. 7.1 \\%. The same happens for all functions in intervals that are either increasing or decreasing throughout the whole interval. One way to compensate for this is to use the height of the rectangles in the middle instead of the end point on the left or right:\n",
    "\n",
    "<img src=\"https://github.com/andreasdh/programmering-i-kjemi/blob/master/docs/bilder_engelsk/rectangle_mid_10.png?raw=true\" width=\"500\"/>\n",
    "\n",
    "The best approximation using rectangles is therefore attained with the _midpoint method_. For linear functions, we will actually get an exact value (even with one rectangle!) because the error of the rectangles are the same size above and below the function. But the midpoint approximation gives great results with other functions as well. Methods like these were used by the ancient Greeks, but they did not have a computer at their disposal! So, let's take a look at how we can implement these methods in Python."
   ]
  },
  {
   "cell_type": "markdown",
   "id": "ca8bf8ab",
   "metadata": {},
   "source": [
    "## Implementing the rectangle methods\n",
    "\n",
    "```{admonition} Rectangle method (left corner approach)\n",
    "The definite integral of a function $f(x)$ from $x = a$ to $x = b$ can be approximated by the area of $n$ rectangles with width $h = \\frac{b-a}{n}$:\n",
    "\n",
    "$$\\int_a^b f(x) \\ \\mathrm{d}x \\approx h \\sum_{k=1}^{n} f(x_k)$$\n",
    "```\n",
    "\n",
    "```{admonition} Exercise\n",
    ":class: tip\n",
    "The program below shows a function which uses the left corner approach of the rectangle rule to approximate the definite integral of a function _f_ between _a_ and _b_. Fill inn the lines that are missing in the code.\n",
    "```\n",
    "\n",
    "<iframe src=\"https://trinket.io/embed/python3/2b6f883886\" width=\"100%\" height=\"600\" frameborder=\"0\" marginwidth=\"0\" marginheight=\"0\" allowfullscreen></iframe>\n",
    "\n",
    "````{admonition} Proposed solution\n",
    ":class: tip, dropdown\n",
    "```{code-block} Python\n",
    "def f(x):\t\t\t\t#Defining a function to integrate\n",
    "    return x**3\n",
    "    \n",
    "def f_analytical(x):    #Defining an analytical value to evaluate the method\n",
    "    return (1/4)*x**4\n",
    "\n",
    "def rectangle_rule_left(f, a, b, n):\n",
    "    A = 0.0\t\t\t\t\t\t\t   \n",
    "    h = (b-a)/n\t\t\t# width of rectangles\n",
    "    for k in range (n):\t\n",
    "        A = A + f(a + k*h)*h\n",
    "    return A\n",
    "    \n",
    "print(\"Numerical value:\", rectangle_rule_left(f, 0, 5, 1000))\n",
    "print(\"Analytical value:\", f_analytical(5)-f_analytical(1))\n",
    "```\n",
    "````\n",
    "Similarly, we can describe the right-hand approximation as follows:\n",
    "\n",
    "```{admonition} Rectangle method (right corner approach)\n",
    "The definite integral of a function $f(x)$ from $x = a$ to $x = b$ can be approximated by the area of $n$ rectangles with width $h = \\frac{b-a}{n}$:\n",
    "\n",
    "$$\\int_a^b f(x) \\ \\mathrm{d}x \\approx h \\sum_{k=1}^{n} f(x_{k+1})$$\n",
    "```\n",
    "\n",
    "```{admonition} Exercise\n",
    ":class: tip\n",
    "Implement the algorithm for the right corner approach as a Python function. Test and compare with the left corner approach on the integral $\\int_2^8 f(x) = x^2 - 2x + 4 \\ dx$.\n",
    "```\n",
    "\n",
    "````{admonition} Proposed solution\n",
    ":class: tip, dropdown\n",
    "```{code-block} Python\n",
    "def rectangle_rule_right(f, a, b, n):\n",
    "    A = 0.0\t\t\t\t\t\t\t   \n",
    "    h = (b-a)/n\n",
    "    for k in range (n-1):\t\n",
    "        A = A + f(a + (k+1)*h)*h\n",
    "    return A\n",
    "```\n",
    "````\n",
    "\n",
    "We get the best approximation by combining the left and right corner approach, which gives us the midpoint approximation:\n",
    "\n",
    "```{admonition} Rectangle method (midpoint approach)\n",
    "The definite integral of a function $f(x)$ from $x = a$ to $x = b$ can be approximated by the area of $n$ rectangles with width $h = \\frac{b-a}{n}$:\n",
    "\n",
    "$$\\int_a^b f(x) \\ \\mathrm{d}x \\approx h \\sum_{k=1}^{n} f(x_{k+1})$$\n",
    "```\n",
    "\n",
    "```{admonition} Exercise\n",
    ":class: tip\n",
    "Implement the algorithm for the right corner approach as a Python function. Test and compare with the left and right corner approach on the integral $\\int_2^8 f(x) = x^2 - 2x + 4 \\ dx$.        \n",
    "```\n",
    "\n",
    "````{admonition} Proposed solution\n",
    ":class: tip, dropdown\n",
    "```{code-block} Python\n",
    "def rectangle_rule_midpointf, a, b, n):\n",
    "    A = 0.0\t\t\t\t\t\t\t   \n",
    "    h = (b-a)/n\n",
    "    for k in range (n):\t\n",
    "        A = A + f(a + (1+2*k)*(h/2))*h\n",
    "    return A\n",
    "```\n",
    "````\n",
    "\n",
    "If we need to integrate functions with very high or low slopes ($|f'(x) >> 0|$), we will need many rectangles to get a satisfactory result. And even with many rectangles, the approximation is not as good as with other methods. Let us therefore take a look at more advanced and improved methods of calculating an integral."
   ]
  },
  {
   "cell_type": "markdown",
   "id": "87bc6ded",
   "metadata": {},
   "source": [
    "## The Trapezoidal rule\n",
    "\n",
    "No, it's not a trap. We can do better than rectangles. We know that the the top part of a rectangle is a straight, horizontal line. Such a line can be represented as a polynomial of degree zero, $f(x) = ax^0 = a$, where $a$ is a real number. Let's look at the possibility of replacing this top part with a polynomial of the first degree, $f(x) = ax^1 = ax$. Then we get _trapezoids_ instead of rectangles. An algorithm for this is a bit less intuitive and a bit more strenous to derive, but we'll give it a go. Let's start with the trapezoidal method illustrated with one trapezoid in the interval $[a, b] = [2, 12]$ with $f(x) = \\cos(x) + 2$:\n",
    "\n",
    "<img src=\"https://github.com/andreasdh/programmering-i-kjemi/blob/master/docs/bilder_engelsk/trapezoid_1.png?raw=true\" width=\"500\"/>\n",
    "\n",
    "Let us derive an algorithm for the trapezoidal rule. Let's start with the are of a trapezoid:\n",
    "\n",
    "$$A_{trapezoid} = \\frac{x_1 + x_2}{2}\\cdot h$$\n",
    "\n",
    "The two sides of the trapezoid, $x_1$ and $x_2$, can here be expressed as $f(a)$ and $f(b)$ respectively. The height of the trapezoid is $b-a$ (flip the screen to the left if you don't like that the height is where we said it is). The area can then be expressed as:\n",
    "\n",
    "$$A = \\frac{f(a) + f(b)}{2}\\cdot(b-a)$$\n",
    "\n",
    "Let us now expand this to $n$ trapezoids. The heigh of every trapezoid is then $h = (x_1+x_2)/n$, which gives us this expression for the area of every $i$-th trapezoid:\n",
    "\n",
    "$$A_i = \\frac{f(x_i) + f(x_i)}{2}\\cdot h$$\n",
    "\n",
    "If we sum the are of all $n$ trapezoids, we get:\n",
    "\n",
    "$$\\frac{f(a)+f(a+h)}{2}h + \\frac{f(a+h)+f(a+2h)}{2}h + \\frac{f(a+2h)+f(a+3h)}{2}h + ... + \\frac{f(a+ih)+f(b)}{2}h$$\n",
    "\n",
    "This seems a bit too long and complicated. Let's simplify it. First of all, we can multiplicate every term with $h$ and divide them by 2:\n",
    "\n",
    "$$\\frac{h}{2}\\cdot (f(a)+f(a+h)+f(a+h)+f(a+2h)+f(a+2h)+ ... + f(a+ih) + f(b))$$\n",
    "\n",
    "If we add terms that are the same, we get:\n",
    "\n",
    "$$\\frac{h}{2}\\cdot (f(a)+2f(a+h)+2f(a+2h)+2f(a+3h)+ ... + 2f(a+ih) + f(b))$$\n",
    "\n",
    "Since $f(a)$ and $f(b)$ are the only terms not multiplied by 2, we can simplify further:\n",
    "\n",
    "$$h\\left(\\frac{f(a)+f(b)}{2} + (f(a+h)+f(a+2h)+f(a+3h)+ ... + f(a+ih))\\right)$$\n",
    "\n",
    "The last collection of terms we can write as a sum. Then we get the trapezoidal rule:\n",
    "\n",
    "```{admonition} Trapezoidal rule\n",
    "\n",
    "The definite integral of a function $f(x)$ from $x = a$ to $x = b$ can be approximated by the sum of the area of $n$ trapezoids with the width $h = \\frac{b-a}{n}$:\n",
    "\n",
    "$$\\int_a^b f(x) dx \\approx h\\left( \\frac{f(a)+f(b)}{2} + \\sum_{i=1}^{n-1} f(x_i) \\right)$$\n",
    "```\n",
    "\n",
    "```{admonition} Exercise\n",
    ":class: tip\n",
    "Implement the trapezoidal rule and test it on the functions $f(x) = x^3 + 2x$ and $f(x) = \\sqrt(x)$ in the interval $[2,4]$. Compare the result with the rectangle rule(s) with the same $n$.     \n",
    "```\n",
    "\n",
    "````{admonition} Proposed solution\n",
    ":class: tip, dropdown\n",
    "```{code-block} Python\n",
    "def trapezoidal_rule(f, a, b, n):\n",
    "    h = (b-a)/n\n",
    "    A = (f(a) + f(b))/2.0\n",
    "    for k in range(1, n):\n",
    "        A = A + f(a + k*h)\n",
    "    return A*h\n",
    "```\n",
    "````\n",
    "\n",
    "Naturally, as we increase the number of trapezoids, we get an even better approximation:\n",
    "\n",
    "<img src=\"https://github.com/andreasdh/programmering-i-kjemi/blob/master/docs/bilder_engelsk/trapezoid_10.png?raw=true\" width=\"500\"/>\n",
    "<img src=\"https://github.com/andreasdh/programmering-i-kjemi/blob/master/docs/bilder_engelsk/trapezoid_50.png?raw=true\" width=\"500\"/>\n",
    "\n",
    "Even though the trapezoidal rule is a general improvement of the rectangle rule, in most cases, we get more precise results with the midpoint rectangle rule than with the trapezoidal rule! Nevertheless, we used the trapezoidal rule to illustrate that we can increase the degree of the polynomial representing the \"top part\" of the geometric figures we use to split up and calculate the area. This can be generalized such that we can use any polynomial as the top part, improving our approximations further. We can use interpolation to derive such methods, but we will no\n",
    "\n",
    "Increasing the polynomial degree comes at a cost, though. When we use a polynomial of a degree higher than 1, we need to find the function values of that polynomial in more than 2 points. This implies increased computing time. Therefore, we need to balance computational cost against how precise the method is. One great method in this regard, is Simpson's method."
   ]
  },
  {
   "cell_type": "markdown",
   "id": "a1c34c85",
   "metadata": {},
   "source": [
    "## Simpson's method\n",
    "\n",
    "Simpson's method is an integration method using polynomials of degree 2 to approximate integrals. We will not derive the method here, but we will implement it and test it out. The main thing you need to understand is that the differe\n",
    "\n",
    "```{admonition} Simpsons metode\n",
    "The definite integral of a function $f(x)$ from $x = a$ to $x = b$ can be approximated by the sum of the area of $n$ geometric figures with the width $h = \\frac{b-a}{n}$:\n",
    "\n",
    "$$\\int_a^b f(x) dx \\approx \\frac{h}{3} \\left( f(a) + f(b) + 2\\sum_{k = 1}^{\\frac{n}{2} - 1} f(x_{2k}) + 4\\sum_{k=1}^{\\frac{n}{2}} f(x_{2k-1}) \\right)$$\n",
    "```\n",
    "\n",
    "We can implement the method like this:"
   ]
  },
  {
   "cell_type": "code",
   "execution_count": 1,
   "id": "c745c562",
   "metadata": {},
   "outputs": [],
   "source": [
    "def simpsons(f, a, b, n):\n",
    "    h = (b-a)/n\n",
    "    total = f(a) + f(b)\n",
    "    for k in range(1,n,2):\n",
    "        A += 4 * f(a + k*h)\n",
    "    for k in range(2,n,2):\n",
    "        A += 2*f(a + k*h)\n",
    "    return A*h/3"
   ]
  },
  {
   "cell_type": "markdown",
   "id": "b34cd41e",
   "metadata": {},
   "source": [
    "```{admonition} Exercise\n",
    ":class: tip\n",
    "Study the code above and try to identify the terms in the definition of Simpson's method.\n",
    "```\n",
    "\n",
    "<img src=\"https://github.com/andreasdh/programmering-i-kjemi/blob/master/docs/bilder_engelsk/simspsons_3.png?raw=true\" width=\"500\"/>\n",
    "\n",
    "<img src=\"https://github.com/andreasdh/programmering-i-kjemi/blob/master/docs/bilder_engelsk/simpsons_10.png?raw=true\" width=\"500\"/>\n",
    "\n",
    "\n",
    "The methods we now have looked at are based on the same concept, namely approximation of the area under a graph using geometric shapes with a rectangular base and a polynomial of degree $n$ as the top part. Since the principle is the same, we call them a _family_ of methods (nice, right?). This family is called _Newton-Cotes_. This means that, for example, the trapezoidal rule is called a Newton-Cotes method of the first degree, while Simpson's method is a Newton-Cotes method of the second degree. There are many other methods and families within numerical integration, but we will leave those for now."
   ]
  },
  {
   "cell_type": "markdown",
   "id": "c6705066",
   "metadata": {},
   "source": [
    "## Using libraries to compute integrals\n",
    "\n",
    "\"Have no one else implemented these methods\", you might have thought when sweating to implement the trapezoidal rule previously. The answer is \"yes, they have!\". And we can use them by importing the library _scipy_ (_scientific python_). Then why did you need to do it? There are two main reasons:\n",
    "\n",
    "1. Pedagogical reasons: By implementing numerical methods, you get a better grasp of how the methods work. Intepreting and writing code gives you insight into the mathematical principles behind each method, which might improve your understanding of what it means to integrate something.\n",
    "2. Creative and technical reasons: Self-implemented code can be altered in every way you see fit. Do you want an error message if your algorithm uses too many iterations? Or do you want your method to be a combination of different algorithms? When making a code of your own, you have total control (at least in principle) of what you make. You can be creative and solve problems in a way tailored for your specific needs.\n",
    "\n",
    "Despite the benefits of making our own code, in our day to day lives it is useful to be able to utilize code that we know works. Therefore, we show you how to integrate a function using the trapezoidal rule, simpson's rule and Gaussian quadrature. We haven't introduced the last method, but you might learn to use it nonetheless (it' great, we promise!). "
   ]
  },
  {
   "cell_type": "code",
   "execution_count": 2,
   "id": "3087071c",
   "metadata": {},
   "outputs": [
    {
     "name": "stdout",
     "output_type": "stream",
     "text": [
      "Trapesmetoden: 151.2501565629694\n",
      "Simpsons metode: 151.25000015671972\n",
      "Gauss kvadratur: (151.25, 1.6959623319719519e-12)\n"
     ]
    }
   ],
   "source": [
    "from scipy import integrate\n",
    "import numpy as np\n",
    "\n",
    "def f(x):\n",
    "    return x**3 - 1\n",
    "\n",
    "n = 1000\n",
    "x = np.linspace(0,5,n)\n",
    "y = f(x)\n",
    "\n",
    "# Integration\n",
    "trapezoid = integrate.trapz(y,x) # Needs arrays as parameter\n",
    "simpsons = integrate.simps(y,x)  # Needs arrays as parameter\n",
    "gaussian_quadrature = integrate.quad(f,0,5) # Needs a function as parameter\n",
    "print(\"Trapezoidal rule:\",trapes)\n",
    "print(\"Simpson's method:\",simpsons)\n",
    "print(\"Gaussian quadrature:\",gaussian_quadrature) # Prints both the answer and the absolute error"
   ]
  },
  {
   "cell_type": "markdown",
   "id": "a165e541",
   "metadata": {},
   "source": [
    "### Multiple integration\n",
    "\n",
    "We can also evaluate double and triple integrals with functions from the scipy library. Let's solve the following integrals with the functions _dblquad_ (for double integrals) and _tplquad_ (for triple integrals):\n",
    "\n",
    "$$\\int_0^{\\frac{\\pi}{2}} \\int_{-1}^1  x \\sin(y) - y e^x \\ dx dy$$\n",
    "\n",
    "$$\\int_0^{3} \\int_{0}^2  \\int_{0}^1 xyz \\ dx dy dz$$"
   ]
  },
  {
   "cell_type": "code",
   "execution_count": 11,
   "id": "c4533142",
   "metadata": {},
   "outputs": [
    {
     "name": "stdout",
     "output_type": "stream",
     "text": [
      "Numerical value of the double integral: -2.899692718238082\n",
      "Analytical value of the double integral:: -2.8996927182380823\n",
      "Numerical value of the triple integral:: 4.5\n",
      "Analytical value of the triple integral:: 4.5\n"
     ]
    }
   ],
   "source": [
    "from scipy import integrate\n",
    "import numpy as np\n",
    "\n",
    "def f(y,x):\n",
    "    return x*np.sin(y) - y*np.exp(x)\n",
    "\n",
    "def g(z, y, x):\n",
    "    return x*y*z\n",
    "\n",
    "numerical_double = integrate.dblquad(f, -1, 1, 0, np.pi/2)\n",
    "numerical_triple = integrate.tplquad(g, 0, 1, 0, 2, 0, 3)\n",
    "\n",
    "analytical_double = np.pi**2/8 * (1/np.exp(1)-np.exp(1))\n",
    "analytical_triple = 9/2\n",
    "print(f'Numerical value of the double integral: {numerical_double[0]}')\n",
    "print(f'Analytical value of the double integral:: {analytical_double}')\n",
    "\n",
    "print(f'Numerical value of the triple integral:: {numerical_triple[0]}')\n",
    "print(f'Analytical value of the triple integral:: {analytical_triple}')"
   ]
  },
  {
   "cell_type": "markdown",
   "id": "35b47330",
   "metadata": {},
   "source": [
    "Look at how precise the methods are! Quite great, right?"
   ]
  },
  {
   "cell_type": "markdown",
   "id": "490822f9",
   "metadata": {},
   "source": [
    "## Symbolic integration\n",
    "\n",
    "In some instances, the integrals we need to compute might be solved symbolically. We can do this by hand, or we can do it by using the library _sympy_ (_symbolic python_). This is a very \"black box\" solution, and you don't get any insight into what is happening, but it is a useful tool for checking your math or comparing numerical methods on difficult integrals. Below is an example of indefinite integration followed by an example of definite integration."
   ]
  },
  {
   "cell_type": "code",
   "execution_count": 9,
   "id": "8a5a47b7",
   "metadata": {},
   "outputs": [
    {
     "data": {
      "text/latex": [
       "$\\displaystyle x^{4} - \\cos{\\left(x \\right)}$"
      ],
      "text/plain": [
       "x**4 - cos(x)"
      ]
     },
     "execution_count": 9,
     "metadata": {},
     "output_type": "execute_result"
    }
   ],
   "source": [
    "from sympy import *\n",
    "\n",
    "x = symbols(\"x\") # Alternative to these two lines: x, y = symbols(\"x y\")\n",
    "y = symbols(\"y\")\n",
    "\n",
    "f = 4*x**3 + sin(x)\n",
    "integrate(f, x)"
   ]
  },
  {
   "cell_type": "code",
   "execution_count": 10,
   "id": "3d9095dc",
   "metadata": {},
   "outputs": [
    {
     "data": {
      "text/latex": [
       "$\\displaystyle \\frac{\\sqrt{2} \\sqrt{\\pi}}{2}$"
      ],
      "text/plain": [
       "sqrt(2)*sqrt(pi)/2"
      ]
     },
     "execution_count": 10,
     "metadata": {},
     "output_type": "execute_result"
    }
   ],
   "source": [
    "integrate(cos(x**2), (x, -oo, oo)) # oo means infinity, and -oo to oo are the integration limits"
   ]
  },
  {
   "cell_type": "markdown",
   "id": "18796c34",
   "metadata": {},
   "source": [
    "```{admonition}\n",
    ":class: tip\n",
    "Try out numerical integration with scipy and symbolic integration with sympy on different integrals. Compare the two approaches.\n",
    "```"
   ]
  },
  {
   "cell_type": "markdown",
   "id": "2f435c28",
   "metadata": {},
   "source": [
    "## Concluding remarks\n",
    "\n",
    "We hope you had some fun with numerical integration, and that you learned something! Here are some pointers on what you should know after working with this material:\n",
    "\n",
    "```{admonition}\n",
    "1. You should know that the integral can be interpreted as sort of an \"infinite sum\" of small parts.\n",
    "2. Approximations to these infinite sums can be made, by for instance using a finite sum of rectangles (right side, left side, midpoint), trapezoids or other geometric figures.\n",
    "3. We can modify our geometric figures such that their top part consists of a polynomial of degree $n$. This gives us different methods of an integration family called _Newton Cotes_. A higher $n$ generally gives a better approximation, at the cost of computing power.\n",
    "4. Premade integration methods can be imported from the scipy library.\n",
    "5. Symbolic integration can be done with the sympy library.\n",
    "6. You should know how to implement the rectangle methods and the trapezoidal rule as your own Python functions.\n",
    "```"
   ]
  },
  {
   "cell_type": "markdown",
   "id": "1a54ae94",
   "metadata": {},
   "source": [
    "## Videos\n",
    "You can use the videos below (in Norwegian) to learn or repeat what you learned about numerical integration:\n",
    "\n",
    "````{tab-set}\n",
    "```{tab-item} Numerical integration\n",
    "<iframe width=\"850\" height=\"450\" src=\"https://www.youtube.com/embed/XHahL9ER2wA\" title=\"YouTube video player\" frameborder=\"0\" allow=\"accelerometer; autoplay; clipboard-write; encrypted-media; gyroscope; picture-in-picture\" allowfullscreen></iframe>\n",
    "```\n",
    "\n",
    "```{tab-item} Different methods for numerical integration\n",
    "<iframe width=\"850\" height=\"450\" src=\"https://www.youtube.com/embed/KOL92Jxp_Yk\" title=\"YouTube video player\" frameborder=\"0\" allow=\"accelerometer; autoplay; clipboard-write; encrypted-media; gyroscope; picture-in-picture\" allowfullscreen></iframe>\n",
    "```\n",
    "````"
   ]
  },
  {
   "cell_type": "code",
   "execution_count": null,
   "id": "4b6fca70",
   "metadata": {},
   "outputs": [],
   "source": []
  }
 ],
 "metadata": {
  "kernelspec": {
   "display_name": "Python 3 (ipykernel)",
   "language": "python",
   "name": "python3"
  },
  "language_info": {
   "codemirror_mode": {
    "name": "ipython",
    "version": 3
   },
   "file_extension": ".py",
   "mimetype": "text/x-python",
   "name": "python",
   "nbconvert_exporter": "python",
   "pygments_lexer": "ipython3",
   "version": "3.8.5"
  }
 },
 "nbformat": 4,
 "nbformat_minor": 5
}
