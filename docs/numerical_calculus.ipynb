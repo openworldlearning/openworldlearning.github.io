{
 "cells": [
  {
   "cell_type": "markdown",
   "id": "0b6345ff",
   "metadata": {},
   "source": [
    "# Numerical calculus\n",
    "\n",
    "<b>Author:</b>  Audun Skau Hansen <a href=\"mailto:a.s.hansen@kjemi.uio.no\">✉️</a> \n",
    "\n",
    "The Hylleraas Centre for Quantum Molecular Sciences and\n",
    "The Centre for Computing in Science Education,\n",
    "2022\n",
    "\n",
    "--- "
   ]
  },
  {
   "cell_type": "markdown",
   "id": "de6c0617",
   "metadata": {},
   "source": []
  }
 ],
 "metadata": {
  "kernelspec": {
   "display_name": "Python 3 (ipykernel)",
   "language": "python",
   "name": "python3"
  },
  "language_info": {
   "codemirror_mode": {
    "name": "ipython",
    "version": 3
   },
   "file_extension": ".py",
   "mimetype": "text/x-python",
   "name": "python",
   "nbconvert_exporter": "python",
   "pygments_lexer": "ipython3",
   "version": "3.8.9"
  }
 },
 "nbformat": 4,
 "nbformat_minor": 5
}
