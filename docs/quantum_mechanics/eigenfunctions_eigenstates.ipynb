{
 "cells": [
  {
   "cell_type": "markdown",
   "id": "a1a5561b",
   "metadata": {},
   "source": [
    "# Eigenfunctions and eigenstates\n",
    "\n",
    "<b>Developed by</b> Elias Anderssen Dalan <a href=\"mailto:ceadyy@gmail.com\">✉️</a>, supported by Centre for Computing in Science Education and Hylleraas Centre for Quantum Molecular Sciences."
   ]
  },
  {
   "cell_type": "markdown",
   "id": "ec055cb1",
   "metadata": {},
   "source": [
    "### Things you might need before tackling this notebook:\n",
    "<ul>\n",
    "    <li><a href=\"\">Dirac notation (Bra-ket notation)</a>\n",
    "    <li><a href=\"\">Eigenvalue problems</a>\n",
    "</ul>"
   ]
  },
  {
   "cell_type": "markdown",
   "id": "18954faf",
   "metadata": {},
   "source": [
    "You are probably familiar with the mathmatical term $\\textit{eigenvalue problem}$, where you solve an equation like this one:\n",
    "\\begin{equation}\n",
    "A\\mathbf{v} = \\lambda \\mathbf{v},\n",
    "\\end{equation}\n",
    "where $A$ is some matrix, $\\mathbf{v}$ is some vector and $\\lambda$ is some number. The corresponding set of $\\mathbf{v}$ and $\\lambda$ to some $A$ are called the eigenvectors and eigenvalues of $A$, respectively. If you are taking, or will be taking, any type of quantum chemsitry course you will definetly encounter some type of eigenvalue problem. Solving these problems are of great importance in quantum mechanics, so it is natural that we take a look at why.\n",
    "\n",
    "The *eigenvalue equation* of some operator $\\hat{O}$ is,\n",
    "\\begin{equation}\n",
    "\\hat{O}\\vert \\psi \\rangle = o \\vert \\psi \\rangle,\n",
    "\\end{equation}\n",
    "which looks very familiar to the previous eigenvalue problems you might have solved. The eigenvalue problems you will encounter in quantum mechanics allow for more general expressions for both the operator, $\\hat{O}$, and the so-called eigenstates $\\vert \\psi \\rangle$, as we are no longer \"restricted\" to solving matrix and vector problems. \n",
    "\n",
    "In quantum mechanics operators represent some sort of observable, like position or momentum. If you solve the equation above you obtain a set of eigenstates $\\vert \\psi_k \\rangle$ and corresponding eigenvalues $o_k$. These eigenvalues represent the allowed values that the observable $o$ can take. Let us dive into an example. This might feel extremely theoretical, so let us not wait any longer and dive into an example! The most prominent observable in chemistry is arguably the energy, which governs stability/reactivity of chemical systems. In quantum mechanics the energy of a system is represented by the *Hamiltonian operator*, $\\hat{H}$. The hamiltonian for a one-partcle system is defined as follows:\n",
    "\n",
    "\\begin{equation}\n",
    "\\hat{H} = \\hat{T} + \\hat{V} = -\\frac{\\hbar^2}{2m}\\nabla^2 + V(\\mathbf{r},t)\n",
    "\\end{equation}"
   ]
  }
 ],
 "metadata": {
  "kernelspec": {
   "display_name": "Python 3 (ipykernel)",
   "language": "python",
   "name": "python3"
  },
  "language_info": {
   "codemirror_mode": {
    "name": "ipython",
    "version": 3
   },
   "file_extension": ".py",
   "mimetype": "text/x-python",
   "name": "python",
   "nbconvert_exporter": "python",
   "pygments_lexer": "ipython3",
   "version": "3.8.9"
  }
 },
 "nbformat": 4,
 "nbformat_minor": 5
}
