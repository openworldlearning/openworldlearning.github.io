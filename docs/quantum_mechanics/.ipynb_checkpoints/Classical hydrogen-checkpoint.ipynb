{
 "cells": [
  {
   "cell_type": "markdown",
   "id": "3e2ebb46",
   "metadata": {},
   "source": [
    "# Limitations of classical mechanics in chemistry\n",
    "\n",
    "<b>Author</b> Audun Skau Hansen <a href=\"mailto:a.s.hansen@kjemi.uio.no\">✉️</a> and Elias Anderssen Dalan <a href=\"mailto:ceadyy@gmail.com\">✉️</a>\n",
    "\n",
    "The Hylleraas Centre for Quantum Molecular Sciences."
   ]
  },
  {
   "cell_type": "markdown",
   "id": "1195255a",
   "metadata": {},
   "source": [
    "## Overview\n",
    "\n",
    "**How is it that classical physics is unable to properly describe the microscopic world?** Unless you have a firm grasp on classical physics, this is not a straightforward problem to dig in to. As it turns out, the answer is not so much about stuff missing in our the classical theories, but rather about intrinsic misconceptions about nature resulting in predictions which contradicts what we actually observe.\n",
    "\n",
    "In this session we’ll explore the microscopic world through a classical lens, face some of the problematic predictions, ponder some possible solutions, and anticipate how the problem can be resolved by actually relaxing the confines of classical physics. Our goal is ultimately do gain deeper insight into the basis for quantum mechanics, and highlight it's importance in chemistry."
   ]
  },
  {
   "cell_type": "markdown",
   "id": "12dadf39",
   "metadata": {},
   "source": [
    "## Some experimental facts\n",
    "\n",
    "We know with a high degree of certainty that most of the matter that we interact with in our universe consists of positively charged protons and negatively charged, relatively light-massed electrons, combining into atoms. The experimental basis for this knowledge is quite convincing:\n",
    "\n",
    "First, John Dalton observed in the early 1800s that chemical compounds involving the same elements typically contains integer multiple fractions of mass of the same elements. (state this better, give example). \n",
    "\n",
    "This makes it reasonable to assume that there is some basic smallest unit of mass of an element, which Dalton named the “atom”. \n",
    "\n",
    "Nearly a century later, J.J. Thomson observed atoms emitting charged particles from a cathode ray tube, in turn named electrons.\n",
    "\n",
    "Based on this, it was assumed that the atom consisted of these charged electrons and some content of opposing charge, but the structure of the atom remained veiled. \n",
    "\n",
    "A series of experiments performed between 1908 and 1913 by Rutherford and collaborators showed that a beam of positively charged particles fired towards atoms mostly just passed through it. However, some few particles deflected, and some even reflected in the same direction they came from. \n",
    "\n",
    "Rutherford thus concluded that atoms contained a small, but massive, nucleus of positively charge.\n"
   ]
  },
  {
   "cell_type": "markdown",
   "id": "8e8fae0f",
   "metadata": {},
   "source": [
    "<table><tr>\n",
    "<td> <img src=\"figure_2_nobeam.png\" alt=\"Drawing\" style=\"width: 70%;\"/> </td>\n",
    "<td> <img src=\"figure_2.png\" alt=\"Drawing\" style=\"width: 70%;\"/> </td>\n",
    "</tr></table>\n"
   ]
  },
  {
   "cell_type": "markdown",
   "id": "86bbd755",
   "metadata": {},
   "source": [
    "```{discuss}\n",
    "(a) Summarize the experimental facts in a single sentence. Use a whiteboard if you need illustrations.\n",
    "(b) Are there unanswered questionsin these findings? Does the experimental facts suggest any new questions to investigate?\n",
    "(c) Why do you think the scientists performing these experiments reached the conclusions they did? What is the logic behind it?\n",
    "(d) Are there other possible explanations for these findings than what the original scientists proposed?\n",
    "```"
   ]
  },
  {
   "cell_type": "markdown",
   "id": "0c2b0455",
   "metadata": {},
   "source": [
    "## Applying theory to the experimental facts\n",
    "\n",
    "This is where classical physics enters the picture. The interaction between charged particles can be cast in terms of the Coulomb force, such that the force acting on a charge $Q_1$ situated at $\\mathbf{f}$ from a charge $Q_2$ situated at $\\mathbf{r}_2$ is expressed\n",
    "\\begin{equation}\n",
    "\\mathbf{F}_1 = \\frac{1}{4 \\pi \\varepsilon_0} \\frac{Q_1Q_2}{r_{12}^2} \\hat{\\mathbf{r}},\n",
    "\\end{equation}\n",
    "where $r_{12} = \\vert \\mathbf{r}_{12} \\vert = \\vert \\mathbf{r}_1 - \\mathbf{r}_2 \\vert$ and the unit vector $\\hat{\\mathbf{r}} = \\frac{\\mathbf{r}_1 - \\mathbf{r}_2}{r_{12}}$.\n",
    "\n",
    "Knowing the charge, the masses and thus the force, the system should evolve according to newtons second law:\n",
    "\n",
    "\\begin{equation}\n",
    "F = m \\big{(}\\frac{d}{dt} \\big{)}^2 x(t)\n",
    "\\end{equation}\n",
    "\n",
    "In order to obtain trajectories, we should then integrate  (of course, this is in practice a bit tricky since we have a many body problem, but numerically it is rather straight forward) \n",
    "\n",
    "\n",
    "How stable is such a system? Does it form bonds, or does interesting geometries arise? Let's do some quick and dirty simulations to get a feel for the system."
   ]
  },
  {
   "cell_type": "code",
   "execution_count": 2,
   "id": "398311ea",
   "metadata": {},
   "outputs": [
    {
     "data": {
      "application/vnd.jupyter.widget-view+json": {
       "model_id": "8cca08319b6148799d75f80659827e61",
       "version_major": 2,
       "version_minor": 0
      },
      "text/plain": [
       "MDView(box=[-10, -10, -10], colors=[[0.9286943321657292, 0.6326309489421674, 0.4822044135010541], [0.860834798…"
      ]
     },
     "metadata": {},
     "output_type": "display_data"
    }
   ],
   "source": [
    "import bubblebox as bb\n",
    "\n",
    "hydrogen = bb.showcase.classical_hydrogen()\n",
    "\n",
    "hydrogen.view()"
   ]
  },
  {
   "cell_type": "code",
   "execution_count": null,
   "id": "45260b07",
   "metadata": {},
   "outputs": [],
   "source": []
  }
 ],
 "metadata": {
  "kernelspec": {
   "display_name": "Python 3 (ipykernel)",
   "language": "python",
   "name": "python3"
  },
  "language_info": {
   "codemirror_mode": {
    "name": "ipython",
    "version": 3
   },
   "file_extension": ".py",
   "mimetype": "text/x-python",
   "name": "python",
   "nbconvert_exporter": "python",
   "pygments_lexer": "ipython3",
   "version": "3.8.9"
  },
  "widgets": {
   "application/vnd.jupyter.widget-state+json": {
    "state": {
     "8cca08319b6148799d75f80659827e61": {
      "model_module": "evince",
      "model_module_version": "^0.20.0",
      "model_name": "MDModel",
      "state": {
       "_model_module_version": "^0.20.0",
       "_view_module_version": "^0.20.0",
       "box": [
        -10,
        -10,
        -10
       ],
       "colors": [
        [
         0.9286943321657292,
         0.6326309489421674,
         0.4822044135010541
        ],
        [
         0.8608347983372215,
         0.7937539268709874,
         0.7068338284288453
        ]
       ],
       "init": true,
       "layout": "IPY_MODEL_a081026d84f54ed1a9cfb7f5e3091bd4",
       "masses": [
        1836,
        1
       ],
       "pos": [
        [
         0,
         0,
         0
        ],
        [
         1,
         0,
         0
        ]
       ]
      }
     },
     "a081026d84f54ed1a9cfb7f5e3091bd4": {
      "model_module": "@jupyter-widgets/base",
      "model_module_version": "1.2.0",
      "model_name": "LayoutModel",
      "state": {}
     }
    },
    "version_major": 2,
    "version_minor": 0
   }
  }
 },
 "nbformat": 4,
 "nbformat_minor": 5
}
