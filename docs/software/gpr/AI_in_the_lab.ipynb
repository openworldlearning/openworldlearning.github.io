{
 "cells": [
  {
   "cell_type": "markdown",
   "id": "66f623ae",
   "metadata": {},
   "source": [
    "# AI in the lab with btjenesten.gpr\n",
    "\n",
    "<b>Author:</b> Elias Dalan <a href=\"mailto:a.s.hansen@kjemi.uio.no\">✉️</a> and </b> Ayla S. Coder <a href=\"mailto:a.s.hansen@kjemi.uio.no\">✉️</a> \n",
    "<b>Editor:</b> Audun Skau Hansen <a href=\"mailto:a.s.hansen@kjemi.uio.no\">✉️</a> \n",
    "\n",
    "The Hylleraas Centre for Quantum Molecular Sciences and\n",
    "The Centre for Computing in Science Education,\n",
    "2022\n",
    "\n",
    "--- "
   ]
  },
  {
   "cell_type": "markdown",
   "id": "67ffb81b",
   "metadata": {},
   "source": [
    "How may artificial intelligence assist us in gaining insight into nature? At the time of writing, this remains an open and highly relevant topic, with a scope reaching from student labs and teaching, all the way to the philosophy of science and beyond. \n",
    "\n",
    "Yet, there are some more practical questions to answer as the age of machinlearning settles around us. Let's expore them.\n",
    "\n",
    "```{admonition} Key questions\n",
    "- What working knowledge should students of the experimental sciences possess in regards to machine learning?\n",
    "- Where and when is machine learning a suitable tool to apply to interpret experimental data?\n",
    "- What are the limiations and weaknesses of various machine learning methods?\n",
    "- How do machine learning methods treat experimental uncertainty and error propagation?\n",
    "```\n"
   ]
  },
  {
   "cell_type": "markdown",
   "id": "ebeb1f70",
   "metadata": {},
   "source": [
    "## What is machine learning?\n",
    "\n"
   ]
  },
  {
   "cell_type": "markdown",
   "id": "99cbdb93",
   "metadata": {},
   "source": [
    "Machine learning is often said to encompass a new programming paradigm. [] Where classical programming focuses on developing rules and methods to process data, machine learning instead develop rules to match some provided input and output data."
   ]
  },
  {
   "cell_type": "code",
   "execution_count": null,
   "id": "009c0c92",
   "metadata": {},
   "outputs": [],
   "source": []
  }
 ],
 "metadata": {
  "kernelspec": {
   "display_name": "Python 3 (ipykernel)",
   "language": "python",
   "name": "python3"
  },
  "language_info": {
   "codemirror_mode": {
    "name": "ipython",
    "version": 3
   },
   "file_extension": ".py",
   "mimetype": "text/x-python",
   "name": "python",
   "nbconvert_exporter": "python",
   "pygments_lexer": "ipython3",
   "version": "3.8.9"
  }
 },
 "nbformat": 4,
 "nbformat_minor": 5
}
