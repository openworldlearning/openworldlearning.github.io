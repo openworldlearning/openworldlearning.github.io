{
 "cells": [
  {
   "cell_type": "markdown",
   "id": "15a348f1",
   "metadata": {},
   "source": [
    "## Development workflow\n",
    "\n",
    "<b>Author</b> Audun Skau Hansen <a href=\"mailto:a.s.hansen@kjemi.uio.no\">✉️</a> \n",
    "\n",
    "The Hylleraas Centre for Quantum Molecular Sciences, 2022\n",
    "\n",
    "---"
   ]
  },
  {
   "cell_type": "markdown",
   "id": "15d62424",
   "metadata": {},
   "source": [
    "For the time being, content is prepared as Jupyter Notebooks and stiched together using the <a href=\"\">Jupyter Books</a> extension (```pip install jupyter-books```). I propose the following workflow:\n",
    "\n",
    "1. Clone the repository's main branch ```git clone -b main git@github.com:openworldlearning/openworldlearning.github.io.git```\n",
    "2. Execute ```jupyter notebook``` from the project folder. New notebooks can be added inside the ```docs```-folder.\n",
    "3. Edit and add notebooks to the document structure.\n",
    "4. In order to try out your additions, run ```jupyter books build openworldlearning.github.io``` from outside the project folder. Open the output file in the browser to inspect additions.\n",
    "5. When ready to submit, you'll have to update the ```_toc.ylm``` file in the projects root folder to include the added documents.\n",
    "6. Then, updarte both the ```main``` branch (internal) and the ```gh-pages```-branch (visible online). First, update the repository:\n",
    "    - (from inside folder) ```git add/commit/pull/push``` your files.\n",
    "7. Findally, update the online pages:\n",
    "    - (from inside the folder) ```ghp-import -n -p -f _build/html```"
   ]
  },
  {
   "cell_type": "code",
   "execution_count": null,
   "id": "c55d2267",
   "metadata": {},
   "outputs": [],
   "source": []
  }
 ],
 "metadata": {
  "kernelspec": {
   "display_name": "Python 3 (ipykernel)",
   "language": "python",
   "name": "python3"
  },
  "language_info": {
   "codemirror_mode": {
    "name": "ipython",
    "version": 3
   },
   "file_extension": ".py",
   "mimetype": "text/x-python",
   "name": "python",
   "nbconvert_exporter": "python",
   "pygments_lexer": "ipython3",
   "version": "3.8.9"
  }
 },
 "nbformat": 4,
 "nbformat_minor": 5
}
